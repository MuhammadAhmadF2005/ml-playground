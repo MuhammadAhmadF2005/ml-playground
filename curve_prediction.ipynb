{
 "cells": [
  {
   "cell_type": "markdown",
   "metadata": {},
   "source": []
  },
  {
   "cell_type": "code",
   "execution_count": 83,
   "metadata": {},
   "outputs": [],
   "source": [
    "import numpy as np\n",
    "import plotly.graph_objects as go\n",
    "\n",
    "x = np.linspace(-4 * np.pi, 4 * np.pi, 1000).reshape(-1, 1)\n",
    "y_true = np.sin(x)"
   ]
  },
  {
   "cell_type": "code",
   "execution_count": 74,
   "metadata": {},
   "outputs": [],
   "source": [
    "from time import time\n",
    "\n",
    "np.random.seed(int(time()))\n",
    "\n",
    "W1 = np.random.randn(1, 10) * np.sqrt(1 / 1)\n",
    "b1 = np.zeros((1, 10))\n",
    "W2 = np.random.randn(10, 10) * np.sqrt(1 / 10)\n",
    "b2 = np.zeros((1, 10))\n",
    "W3 = np.random.randn(10, 1) * np.sqrt(1 / 10)\n",
    "b3 = np.zeros((1, 1))"
   ]
  },
  {
   "cell_type": "code",
   "execution_count": 71,
   "metadata": {},
   "outputs": [],
   "source": [
    "def tanh(z):\n",
    "    return np.tanh(z)\n",
    "\n",
    "\n",
    "def tanh_d(z):\n",
    "    return 1 - np.tanh(z) ** 2\n",
    "\n",
    "\n",
    "lr, epochs = 0.05, 5000"
   ]
  },
  {
   "cell_type": "code",
   "execution_count": 75,
   "metadata": {},
   "outputs": [
    {
     "name": "stdout",
     "output_type": "stream",
     "text": [
      "Loss: 0.40394014381961\n"
     ]
    }
   ],
   "source": [
    "for _ in range(epochs):\n",
    "    z1 = x @ W1 + b1\n",
    "    a1 = tanh(z1)\n",
    "    z2 = a1 @ W2 + b2\n",
    "    a2 = tanh(z2)\n",
    "    y_pred = a2 @ W3 + b3\n",
    "\n",
    "    loss = np.mean((y_pred - y_true) ** 2)\n",
    "\n",
    "    # Backprop\n",
    "    dL = 2 * (y_pred - y_true) / len(x)\n",
    "    dW3 = a2.T @ dL\n",
    "    db3 = np.sum(dL, axis=0, keepdims=True)\n",
    "\n",
    "    da2 = dL @ W3.T\n",
    "    dz2 = da2 * tanh_d(z2)\n",
    "    dW2 = a1.T @ dz2\n",
    "    db2 = np.sum(dz2, axis=0, keepdims=True)\n",
    "\n",
    "    da1 = dz2 @ W2.T\n",
    "    dz1 = da1 * tanh_d(z1)\n",
    "    dW1 = x.T @ dz1\n",
    "    db1 = np.sum(dz1, axis=0, keepdims=True)\n",
    "\n",
    "    W3 -= lr * dW3\n",
    "    b3 -= lr * db3\n",
    "    W2 -= lr * dW2\n",
    "    b2 -= lr * db2\n",
    "    W1 -= lr * dW1\n",
    "    b1 -= lr * db1\n",
    "\n",
    "print(f\"Loss: {loss}\")"
   ]
  },
  {
   "cell_type": "code",
   "execution_count": 56,
   "metadata": {},
   "outputs": [],
   "source": [
    "import plotly.io as pio\n",
    "\n",
    "pio.renderers.default = \"browser\"\n",
    "fig = go.Figure()\n",
    "fig.add_trace(\n",
    "    go.Scatter(x=x.flatten(), y=y_true.flatten(), mode=\"lines\", name=\"True Curve\")\n",
    ")\n",
    "fig.add_trace(\n",
    "    go.Scatter(x=x.flatten(), y=y_pred.flatten(), mode=\"lines\", name=\"Predicted Curve\")\n",
    ")\n",
    "fig.update_layout(\n",
    "    title=\"Curve Prediction (3-layer NN with Sigmoid)\", xaxis_title=\"x\", yaxis_title=\"y\"\n",
    ")\n",
    "fig.show()"
   ]
  },
  {
   "cell_type": "code",
   "execution_count": 84,
   "metadata": {},
   "outputs": [],
   "source": [
    "def n_layer_nn(x, y, N, lr=0.01, epochs=5000, hidden_size=10):\n",
    "\n",
    "    # N-layer neural network (N-1 hidden layers + 1 output layer) with tanh activations.\n",
    "\n",
    "    m, d_in = x.shape\n",
    "    d_out = y.shape[1]\n",
    "\n",
    "    # W and bs\n",
    "    sizes = [d_in] + [hidden_size] * (N - 2) + [d_out]\n",
    "    W = [\n",
    "        np.random.randn(sizes[i], sizes[i + 1]) * np.sqrt(1 / sizes[i])\n",
    "        for i in range(len(sizes) - 1)\n",
    "    ]\n",
    "    b = [np.zeros((1, sizes[i + 1])) for i in range(len(sizes) - 1)]\n",
    "\n",
    "    for _ in range(epochs):\n",
    "        Z, A = [], [x]\n",
    "        for i in range(len(W) - 1):\n",
    "            Z.append(A[-1] @ W[i] + b[i])\n",
    "            A.append(tanh(Z[-1]))\n",
    "\n",
    "        Z.append(A[-1] @ W[-1] + b[-1])\n",
    "        y_pred = Z[-1]\n",
    "\n",
    "        loss = np.mean((y_pred - y) ** 2)\n",
    "\n",
    "        dL = 2 * (y_pred - y) / m\n",
    "        dW, db = [None] * len(W), [None] * len(W)\n",
    "\n",
    "        dW[-1] = A[-1].T @ dL\n",
    "        db[-1] = np.sum(dL, axis=0, keepdims=True)\n",
    "        dA = dL @ W[-1].T\n",
    "        # descent\n",
    "        for i in reversed(range(len(W) - 1)):\n",
    "            dZ = dA * tanh_d(Z[i])\n",
    "            dW[i] = A[i].T @ dZ\n",
    "            db[i] = np.sum(dZ, axis=0, keepdims=True)\n",
    "            if i > 0:\n",
    "                dA = dZ @ W[i].T\n",
    "\n",
    "        for i in range(len(W)):\n",
    "            W[i] -= lr * dW[i]\n",
    "            b[i] -= lr * db[i]\n",
    "\n",
    "    return W, b, y_pred, loss"
   ]
  },
  {
   "cell_type": "code",
   "execution_count": 85,
   "metadata": {},
   "outputs": [
    {
     "name": "stdout",
     "output_type": "stream",
     "text": [
      "0.37314682606382893\n"
     ]
    }
   ],
   "source": [
    "res = n_layer_nn(x, y_true, 4)\n",
    "print(res[3])\n",
    "y_pred = res[2]\n",
    "pio.renderers.default = \"browser\"\n",
    "fig = go.Figure()\n",
    "fig.add_trace(\n",
    "    go.Scatter(x=x.flatten(), y=y_true.flatten(), mode=\"lines\", name=\"True Curve\")\n",
    ")\n",
    "fig.add_trace(\n",
    "    go.Scatter(x=x.flatten(), y=y_pred.flatten(), mode=\"lines\", name=\"Predicted Curve\")\n",
    ")\n",
    "fig.update_layout(\n",
    "    title=\"Curve Prediction (3-layer NN with tanh)\", xaxis_title=\"x\", yaxis_title=\"y\"\n",
    ")\n",
    "fig.show()"
   ]
  },
  {
   "cell_type": "code",
   "execution_count": null,
   "metadata": {},
   "outputs": [],
   "source": []
  }
 ],
 "metadata": {
  "kernelspec": {
   "display_name": "Python 3",
   "language": "python",
   "name": "python3"
  },
  "language_info": {
   "codemirror_mode": {
    "name": "ipython",
    "version": 3
   },
   "file_extension": ".py",
   "mimetype": "text/x-python",
   "name": "python",
   "nbconvert_exporter": "python",
   "pygments_lexer": "ipython3",
   "version": "3.12.9"
  }
 },
 "nbformat": 4,
 "nbformat_minor": 2
}
