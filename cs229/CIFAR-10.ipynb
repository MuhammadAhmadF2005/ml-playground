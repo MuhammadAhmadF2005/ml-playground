{
 "cells": [
  {
   "cell_type": "code",
   "execution_count": 46,
   "id": "39a30c15",
   "metadata": {},
   "outputs": [
    {
     "name": "stdout",
     "output_type": "stream",
     "text": [
      "50000\n"
     ]
    }
   ],
   "source": [
    "import torch as tt\n",
    "from torchvision import datasets, transforms\n",
    "from torch.utils.data import DataLoader\n",
    "\n",
    "transform = transforms.ToTensor()\n",
    "path = \"./CIFAR-10\"\n",
    "train_dataset = datasets.CIFAR10(root=path, train=True, download=True, transform=transform)\n",
    "train_loader = DataLoader(train_dataset, batch_size=64, shuffle=True)\n",
    "\n",
    "print(len(train_dataset))"
   ]
  },
  {
   "cell_type": "code",
   "execution_count": 47,
   "id": "7aec2e1d",
   "metadata": {},
   "outputs": [],
   "source": [
    "def relu(x):\n",
    "    return tt.maximum(x, tt.tensor(0.0, device=x.device))\n",
    "\n",
    "def softmax(x):\n",
    "    exp_x = tt.exp(x - x.max(dim=1, keepdim=True).values)\n",
    "    return exp_x / exp_x.sum(dim=1, keepdim=True)\n",
    "\n",
    "def cross_entropy(pred, target):\n",
    "    N = target.size(0)\n",
    "    log_likelihood = -tt.log(pred[tt.arange(N), target] + 1e-9)\n",
    "    return log_likelihood.mean()"
   ]
  },
  {
   "cell_type": "code",
   "execution_count": 48,
   "id": "08dec012",
   "metadata": {},
   "outputs": [],
   "source": [
    "D_in = 3*32*32\n",
    "h1, h2, h3, h4 = 1024, 512, 256, 128\n",
    "D_out = 10\n",
    "\n",
    "class Net(tt.nn.Module):\n",
    "    def __init__(self):\n",
    "        super().__init__()\n",
    "        self.fc1 = tt.nn.Linear(D_in, h1)\n",
    "        self.fc2 = tt.nn.Linear(h1, h2)\n",
    "        self.fc3 = tt.nn.Linear(h2, h3)\n",
    "        self.fc4 = tt.nn.Linear(h3, h4)\n",
    "        self.fc5 = tt.nn.Linear(h4, D_out)\n",
    "\n",
    "    def forward(self, x):\n",
    "        x = x.view(x.size(0), -1)   # flatten\n",
    "        x = relu(self.fc1(x))\n",
    "        x = relu(self.fc2(x))\n",
    "        x = relu(self.fc3(x))\n",
    "        x = relu(self.fc4(x))\n",
    "        x = self.fc5(x)\n",
    "        return softmax(x)"
   ]
  },
  {
   "cell_type": "code",
   "execution_count": null,
   "id": "2a56a5c9",
   "metadata": {},
   "outputs": [
    {
     "name": "stdout",
     "output_type": "stream",
     "text": [
      "Batch 0, Loss: 2.3064\n",
      "Batch 100, Loss: 2.1514\n",
      "Batch 200, Loss: 2.0187\n",
      "Batch 300, Loss: 2.0176\n",
      "Batch 400, Loss: 1.7878\n",
      "Batch 500, Loss: 1.9215\n",
      "Batch 600, Loss: 1.8834\n",
      "Batch 700, Loss: 1.9542\n",
      "Batch 0, Loss: 1.8438\n",
      "Batch 100, Loss: 1.7234\n",
      "Batch 200, Loss: 1.8887\n",
      "Batch 300, Loss: 1.6364\n",
      "Batch 400, Loss: 1.5203\n",
      "Batch 500, Loss: 1.8384\n",
      "Batch 600, Loss: 1.6621\n",
      "Batch 700, Loss: 1.7592\n",
      "Batch 0, Loss: 1.6240\n",
      "Batch 100, Loss: 1.7350\n",
      "Batch 200, Loss: 1.5092\n",
      "Batch 300, Loss: 1.5377\n",
      "Batch 400, Loss: 1.5145\n",
      "Batch 500, Loss: 1.6459\n",
      "Batch 600, Loss: 1.7428\n",
      "Batch 700, Loss: 1.6654\n",
      "Batch 0, Loss: 1.7201\n",
      "Batch 100, Loss: 1.5616\n",
      "Batch 200, Loss: 1.5296\n",
      "Batch 300, Loss: 1.6744\n",
      "Batch 400, Loss: 1.6790\n",
      "Batch 500, Loss: 1.6926\n",
      "Batch 600, Loss: 1.6714\n",
      "Batch 700, Loss: 1.6308\n",
      "Batch 0, Loss: 1.7905\n",
      "Batch 100, Loss: 1.5617\n",
      "Batch 200, Loss: 1.5810\n",
      "Batch 300, Loss: 1.7146\n",
      "Batch 400, Loss: 1.4247\n",
      "Batch 500, Loss: 1.4292\n",
      "Batch 600, Loss: 1.5519\n",
      "Batch 700, Loss: 1.4702\n"
     ]
    }
   ],
   "source": [
    "device = \"cpu\"\n",
    "model = Net().to(device)\n",
    "opt = tt.optim.Adam(model.parameters(), lr=1e-4)\n",
    "\n",
    "epoch = 5\n",
    "for _ in range(epoch):\n",
    "    for i, (imgs, labels) in enumerate(train_loader):\n",
    "        imgs, labels = imgs.to(device), labels.to(device)\n",
    "\n",
    "        probs = model(imgs)\n",
    "        loss = cross_entropy(probs, labels)\n",
    "\n",
    "        opt.zero_grad()\n",
    "        loss.backward()\n",
    "        opt.step()\n",
    "\n",
    "        if i % 100 == 0:\n",
    "            print(f\"Batch {i}, Loss: {loss.item():.4f}\")"
   ]
  },
  {
   "cell_type": "code",
   "execution_count": 52,
   "id": "a36d20a3",
   "metadata": {},
   "outputs": [
    {
     "name": "stdout",
     "output_type": "stream",
     "text": [
      "Test Loss: 1.5219, Test Acc: 46.19%\n"
     ]
    }
   ],
   "source": [
    "test_dataset = datasets.CIFAR10(root=\"./CIFAR-10\", train=False, download=True, transform=transform)\n",
    "test_loader = DataLoader(test_dataset, batch_size=64, shuffle=False)\n",
    "\n",
    "def evaluate(model, loader):\n",
    "    model.eval()\n",
    "    total_loss, correct, total = 0, 0, 0\n",
    "    with tt.no_grad():\n",
    "        for imgs, labels in loader:\n",
    "            imgs, labels = imgs.to(device), labels.to(device)\n",
    "            probs = model(imgs)\n",
    "            loss = cross_entropy(probs, labels)\n",
    "            total_loss += loss.item() * imgs.size(0)\n",
    "            preds = probs.argmax(dim=1)\n",
    "            correct += (preds == labels).sum().item()\n",
    "            total += labels.size(0)\n",
    "    avg_loss = total_loss / total\n",
    "    acc = correct / total\n",
    "    return avg_loss, acc\n",
    "\n",
    "test_loss, test_acc = evaluate(model, test_loader)\n",
    "print(f\"Test Loss: {test_loss:.4f}, Test Acc: {test_acc*100:.2f}%\")\n"
   ]
  },
  {
   "cell_type": "code",
   "execution_count": null,
   "id": "6336c94b",
   "metadata": {},
   "outputs": [],
   "source": []
  },
  {
   "cell_type": "code",
   "execution_count": null,
   "id": "a8bd05b9",
   "metadata": {},
   "outputs": [],
   "source": []
  },
  {
   "cell_type": "code",
   "execution_count": null,
   "id": "8985a0b0",
   "metadata": {},
   "outputs": [],
   "source": []
  }
 ],
 "metadata": {
  "kernelspec": {
   "display_name": "Python 3",
   "language": "python",
   "name": "python3"
  },
  "language_info": {
   "codemirror_mode": {
    "name": "ipython",
    "version": 3
   },
   "file_extension": ".py",
   "mimetype": "text/x-python",
   "name": "python",
   "nbconvert_exporter": "python",
   "pygments_lexer": "ipython3",
   "version": "3.10.12"
  }
 },
 "nbformat": 4,
 "nbformat_minor": 5
}
