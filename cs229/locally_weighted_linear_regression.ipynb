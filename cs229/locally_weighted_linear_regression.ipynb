{
 "cells": [
  {
   "cell_type": "code",
   "execution_count": 1,
   "id": "9eb38850",
   "metadata": {},
   "outputs": [],
   "source": [
    "from sklearn.datasets import load_diabetes\n",
    "import pandas as pd\n",
    "import numpy as np"
   ]
  },
  {
   "cell_type": "code",
   "execution_count": 3,
   "id": "6533d912",
   "metadata": {},
   "outputs": [],
   "source": [
    "\n",
    "X, y = load_diabetes(return_X_y=True)\n",
    "X = np.c_[np.ones(X.shape[0]), X]\n",
    "data = load_diabetes()\n",
    "\n",
    "df = pd.DataFrame(X, columns=[\"bias\"]+data.feature_names)\n",
    "df[\"target\"] = y\n",
    "\n",
    "from sklearn.model_selection import train_test_split\n",
    "X_train, X_test, y_train, y_test = train_test_split(X, y, test_size=0.2, random_state=42)"
   ]
  },
  {
   "cell_type": "code",
   "execution_count": 5,
   "id": "2e4f1066",
   "metadata": {},
   "outputs": [
    {
     "name": "stdout",
     "output_type": "stream",
     "text": [
      "2880.975343735333\n"
     ]
    }
   ],
   "source": [
    "def lwlr(x_query, X_train, y_train, tau = 0.5):\n",
    "    n = X_train.shape[0]\n",
    "    W = np.zeros((n, n))\n",
    "    for i in range(n):\n",
    "        diff = x_query - X_train[i]\n",
    "        W[i, i] = np.exp(-np.dot(diff, diff)/(2*tau*tau))\n",
    "    \n",
    "    #Normal equation with weights\n",
    "    XTWX = X_train.T @ W @ X_train\n",
    "    XTWy = X_train.T @ W @ y_train\n",
    "    theta = np.linalg.pinv(XTWX) @ XTWy\n",
    "\n",
    "    return x_query @ theta\n",
    "\n",
    "predictions = [lwlr(query, X_train, y_train) for query in X_test]\n",
    "\n",
    "from sklearn.metrics import mean_squared_error\n",
    "mse = mean_squared_error(predictions, y_test)\n",
    "print(mse)"
   ]
  },
  {
   "cell_type": "code",
   "execution_count": null,
   "id": "fae08fd3",
   "metadata": {},
   "outputs": [],
   "source": [
    "\n"
   ]
  },
  {
   "cell_type": "code",
   "execution_count": null,
   "id": "d7b61039",
   "metadata": {},
   "outputs": [],
   "source": []
  }
 ],
 "metadata": {
  "kernelspec": {
   "display_name": "Python 3",
   "language": "python",
   "name": "python3"
  },
  "language_info": {
   "codemirror_mode": {
    "name": "ipython",
    "version": 3
   },
   "file_extension": ".py",
   "mimetype": "text/x-python",
   "name": "python",
   "nbconvert_exporter": "python",
   "pygments_lexer": "ipython3",
   "version": "3.10.12"
  }
 },
 "nbformat": 4,
 "nbformat_minor": 5
}
