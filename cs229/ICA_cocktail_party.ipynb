{
 "cells": [
  {
   "cell_type": "code",
   "execution_count": 117,
   "id": "ec0f4097",
   "metadata": {},
   "outputs": [],
   "source": [
    "import numpy as np\n",
    "import soundfile as sf\n",
    "import os"
   ]
  },
  {
   "cell_type": "code",
   "execution_count": 118,
   "id": "60428a11",
   "metadata": {},
   "outputs": [],
   "source": [
    "base = \"./Party Music\"\n",
    "s1 = os.path.join(base, \"Adele.mp3\")\n",
    "s2 = os.path.join(base, \"Beethoven.mp3\")\n",
    "s3 = os.path.join(base, \"DP.mp3\")\n",
    "\n",
    "files = [s1, s2, s3]"
   ]
  },
  {
   "cell_type": "code",
   "execution_count": 119,
   "id": "f5ad168a",
   "metadata": {},
   "outputs": [],
   "source": [
    "signals = []\n",
    "sr = None\n",
    "\n",
    "import librosa\n",
    "for f in files:\n",
    "    x, sr = librosa.load(f, sr=16000, mono=True)\n",
    "    signals.append(x)"
   ]
  },
  {
   "cell_type": "code",
   "execution_count": 120,
   "id": "1ee7eb28",
   "metadata": {},
   "outputs": [],
   "source": [
    "# print(signals[0])\n",
    "mnl = min(len(s) for s in signals)\n",
    "signals = [s[:mnl] for s in signals]\n",
    "X = np.stack(signals)\n",
    "\n",
    "np.random.seed(42)\n",
    "# A = np.random.randn(3, 3)\n",
    "A = np.array([[1, 0.5, 0.8],\n",
    "              [0.3, 1, 0.5],\n",
    "              [0.2, 0.3, 1]])\n",
    "mixed = A @ X\n",
    "\n",
    "noise_level = 0.05*np.std(mixed)\n",
    "noise = noise_level * np.random.randn(*mixed.shape)\n",
    "mixed_noisy = mixed+noise\n",
    "\n",
    "#Normalise to avoid clipping\n",
    "mixed_noisy = mixed_noisy / np.max(np.abs(mixed_noisy), axis=1, keepdims=True) * 0.9\n",
    "\n",
    "os.makedirs(f\"{base}/mixed\", exist_ok=True)\n",
    "for i in range(3):\n",
    "    sf.write(f\"{base}/mixed/song_{i+1}.wav\", mixed_noisy[i], sr)"
   ]
  },
  {
   "cell_type": "code",
   "execution_count": 121,
   "id": "ce00ba44",
   "metadata": {},
   "outputs": [],
   "source": [
    "def center(X):\n",
    "    return X - np.mean(X, axis=1, keepdims=True)\n",
    "\n",
    "def whiten(X):\n",
    "    cov = np.cov(X)\n",
    "    E, D, _ = np.linalg.svd(cov)\n",
    "    D_inv = np.diag(1.0 / np.sqrt(D + 1e-6))\n",
    "    X_white = E @ D_inv @ E.T @ X\n",
    "    return X_white\n",
    "\n",
    "Xc = center(mixed_noisy)\n",
    "Xw = whiten(Xc)\n",
    "\n",
    "def sigmoid(u):\n",
    "    return 1/(1+np.exp(-u))"
   ]
  },
  {
   "cell_type": "code",
   "execution_count": 122,
   "id": "fc5119ef",
   "metadata": {},
   "outputs": [],
   "source": [
    "from scipy.linalg import sqrtm\n",
    "\n",
    "def train(X, epochs=100, lr=0.01, batch=20000):\n",
    "\n",
    "    m, n = X.shape\n",
    "    W = np.random.randn(m, m)\n",
    "\n",
    "    for _ in range(epochs):\n",
    "        idx = np.random.choice(n, batch, replace=False)\n",
    "        for i in idx:\n",
    "            x = X[:, i:i+1]\n",
    "            u = W @ x\n",
    "            g = sigmoid(u)\n",
    "            grad = (1 - 2*g) @ x.T + np.linalg.inv(W.T)\n",
    "            W += lr * grad\n",
    "        # decorrelate rows\n",
    "        W = np.linalg.inv(sqrtm(W @ W.T)) @ W\n",
    "        if (_+1)%(epochs//10)==0:\n",
    "            print(f\"Epoch {_+1}/{epochs} done\")\n",
    "            \n",
    "    return W"
   ]
  },
  {
   "cell_type": "code",
   "execution_count": 123,
   "id": "3781b587",
   "metadata": {},
   "outputs": [
    {
     "name": "stdout",
     "output_type": "stream",
     "text": [
      "Epoch 10/100 done\n",
      "Epoch 20/100 done\n",
      "Epoch 30/100 done\n",
      "Epoch 40/100 done\n",
      "Epoch 50/100 done\n",
      "Epoch 60/100 done\n",
      "Epoch 70/100 done\n",
      "Epoch 80/100 done\n",
      "Epoch 90/100 done\n",
      "Epoch 100/100 done\n"
     ]
    }
   ],
   "source": [
    "W = train(Xw)\n",
    "recovered = W @ Xw\n",
    "\n",
    "os.makedirs(f\"{base}/recovered\", exist_ok=True)\n",
    "for i in range(3):\n",
    "    sf.write(f\"{base}/recovered/song_{i+1}.wav\", recovered[i] / np.max(np.abs(recovered[i])), sr)"
   ]
  },
  {
   "cell_type": "code",
   "execution_count": null,
   "id": "cff6a2b5",
   "metadata": {},
   "outputs": [],
   "source": []
  }
 ],
 "metadata": {
  "kernelspec": {
   "display_name": "Python 3",
   "language": "python",
   "name": "python3"
  },
  "language_info": {
   "codemirror_mode": {
    "name": "ipython",
    "version": 3
   },
   "file_extension": ".py",
   "mimetype": "text/x-python",
   "name": "python",
   "nbconvert_exporter": "python",
   "pygments_lexer": "ipython3",
   "version": "3.10.12"
  }
 },
 "nbformat": 4,
 "nbformat_minor": 5
}
