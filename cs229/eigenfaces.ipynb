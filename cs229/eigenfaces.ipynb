{
 "cells": [
  {
   "cell_type": "code",
   "execution_count": 31,
   "id": "5bda5343",
   "metadata": {},
   "outputs": [
    {
     "name": "stdout",
     "output_type": "stream",
     "text": [
      "(400, 10304) (400,)\n"
     ]
    }
   ],
   "source": [
    "import os\n",
    "import numpy as np\n",
    "from PIL import Image\n",
    "\n",
    "def load_orl_faces(path):\n",
    "    data, labels = [], []\n",
    "    for person in range(1, 41):\n",
    "        folder = os.path.join(path, f\"s{person}\")\n",
    "        for img_name in os.listdir(folder):\n",
    "            img_path = os.path.join(folder, img_name)\n",
    "            img = Image.open(img_path).convert(\"L\")\n",
    "            img = img.resize((92, 112))\n",
    "            data.append(np.array(img).flatten())\n",
    "            labels.append(person)\n",
    "    return np.array(data), np.array(labels)\n",
    "\n",
    "path = \"AT&T Database of Faces\"\n",
    "X, y = load_orl_faces(path)\n",
    "print(X.shape, y.shape)\n"
   ]
  },
  {
   "cell_type": "code",
   "execution_count": 32,
   "id": "446ff595",
   "metadata": {},
   "outputs": [],
   "source": [
    "def normaliser(data):\n",
    "    # data = data.astype(np.float64)\n",
    "\n",
    "    # n, d  = data.shape\n",
    "    # muo, std = [], []\n",
    "    # for i in range(d):\n",
    "    #     sm, sm_sq = 0, 0\n",
    "    #     for j in range(n):\n",
    "    #         sm+= data[j, i]\n",
    "    #         sm_sq += data[j,i]**2\n",
    "\n",
    "    #     mu = sm/n\n",
    "    #     sigma = (sm_sq/n - mu**2)**0.5\n",
    "    #     muo.append(mu)\n",
    "    #     std.append(sigma if sigma else 1)\n",
    "    \n",
    "    # for i in range(d):\n",
    "    #     for j in range(n):\n",
    "    #         data[j, i] = (data[j, i] - muo[i])/std[i]\n",
    "    \n",
    "    # return np.array(data)\n",
    "    muo = np.mean(data, axis=0)\n",
    "    std = np.std(data, axis=0)\n",
    "    data = (data - muo) / std\n",
    "    return data\n",
    "        \n",
    "def covariance_matrix(data):\n",
    "    cov_matrix = np.dot(data.T, data) / (data.shape[0])\n",
    "    return cov_matrix\n"
   ]
  },
  {
   "cell_type": "code",
   "execution_count": 33,
   "id": "69a92763",
   "metadata": {},
   "outputs": [],
   "source": [
    "X = normaliser(X)\n",
    "C = covariance_matrix(X)\n",
    "\n",
    "from scipy.sparse.linalg import eigsh\n",
    "k = 30\n",
    "eigvals, eigvecs = eigsh(C, k=k, which='LM')\n",
    "\n",
    "idx = np.argsort(eigvals)[::-1]\n",
    "eigvals, eigvecs = eigvals[idx], eigvecs[:, idx]"
   ]
  },
  {
   "cell_type": "code",
   "execution_count": 34,
   "id": "d15060a4",
   "metadata": {},
   "outputs": [
    {
     "name": "stdout",
     "output_type": "stream",
     "text": [
      "(400, 30)\n"
     ]
    }
   ],
   "source": [
    "Z = X @ eigvecs \n",
    "print(Z.shape)\n"
   ]
  },
  {
   "cell_type": "code",
   "execution_count": 35,
   "id": "bf0f8c35",
   "metadata": {},
   "outputs": [
    {
     "name": "stdout",
     "output_type": "stream",
     "text": [
      "Accuracy: 0.95\n"
     ]
    }
   ],
   "source": [
    "from sklearn.model_selection import train_test_split\n",
    "X_train, X_test, y_train, y_test = train_test_split(Z, y, test_size=0.2, random_state=42)\n",
    "\n",
    "def predict_1nn(X_train, y_train, X_test):\n",
    "    preds = []\n",
    "    for x in X_test:\n",
    "        dists = np.linalg.norm(X_train - x, axis=1)\n",
    "        idx = np.argmin(dists)\n",
    "        preds.append(y_train[idx])\n",
    "\n",
    "    return np.array(preds)\n",
    "\n",
    "def mode(labels):\n",
    "    vals, counts = np.unique(labels, return_counts=True)\n",
    "    return vals[np.argmax(counts)]\n",
    "\n",
    "def predict_knn(X_train, y_train, X_test, k=1):\n",
    "    preds = []\n",
    "    for x in X_test:\n",
    "        dists = np.linalg.norm(X_train - x, axis=1)\n",
    "        idx = np.argsort(dists)[:k]\n",
    "        nearest_labels = y_train[idx]\n",
    "        guess = mode(nearest_labels)\n",
    "        preds.append(guess)\n",
    "\n",
    "    return np.array(preds)\n",
    "\n",
    "y_pred = predict_knn(X_train, y_train, X_test)\n",
    "acc = np.mean(y_pred == y_test)\n",
    "print(f\"Accuracy: {acc}\")\n"
   ]
  },
  {
   "cell_type": "code",
   "execution_count": null,
   "id": "5eff3d84",
   "metadata": {},
   "outputs": [],
   "source": []
  }
 ],
 "metadata": {
  "kernelspec": {
   "display_name": "Python 3",
   "language": "python",
   "name": "python3"
  },
  "language_info": {
   "codemirror_mode": {
    "name": "ipython",
    "version": 3
   },
   "file_extension": ".py",
   "mimetype": "text/x-python",
   "name": "python",
   "nbconvert_exporter": "python",
   "pygments_lexer": "ipython3",
   "version": "3.10.12"
  }
 },
 "nbformat": 4,
 "nbformat_minor": 5
}
