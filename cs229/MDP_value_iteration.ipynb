{
 "cells": [
  {
   "cell_type": "code",
   "execution_count": 165,
   "id": "555723b5",
   "metadata": {},
   "outputs": [],
   "source": [
    "import numpy as np\n",
    "import matplotlib.pyplot as plt"
   ]
  },
  {
   "cell_type": "code",
   "execution_count": 166,
   "id": "cdcdff3c",
   "metadata": {},
   "outputs": [
    {
     "name": "stdout",
     "output_type": "stream",
     "text": [
      "[[-0.02 -0.02 -0.02 -0.02 -0.02 -0.02 -0.02 -0.02 -0.02 -1.  ]\n",
      " [-0.02 -0.02 -0.02 -0.02 -0.02 -0.02 -0.02 -0.02 -0.02 -0.02]\n",
      " [-1.   -0.02 -0.02 -0.02 -0.02 -0.02 -0.02 -0.02 -0.02 -0.02]\n",
      " [-0.02 -0.02 -0.02 -0.02 -0.02 -0.02 -0.02 -0.02 -0.02 -0.02]\n",
      " [-0.02 -0.02 -0.02 -0.02 -0.02 -1.   -0.02 -0.02 -0.02 -0.02]\n",
      " [-0.02 -0.02 -0.02 -0.02 -0.02 -0.02 -0.02 -0.02 -0.02 -0.02]\n",
      " [-0.02 -0.02 -0.02 -0.02 -0.02 -0.02 -0.02  1.   -0.02 -0.02]\n",
      " [-0.02 -0.02 -0.02 -0.02 -0.02 -0.02 -0.02 -0.02 -0.02 -0.02]\n",
      " [-0.02 -0.02 -0.02 -0.02 -0.02 -0.02 -0.02 -0.02 -0.02 -0.02]\n",
      " [ 1.   -0.02 -0.02 -0.02 -0.02 -0.02 -0.02 -0.02 -0.02 -1.  ]]\n"
     ]
    }
   ],
   "source": [
    "grid = np.full((10, 10), -0.02)\n",
    "pos = [(9, 0), (6, 7)]\n",
    "neg = [(2, 0), (4, 5), (0, 9), (9, 9)]\n",
    "for i, j in pos:\n",
    "    grid[i, j] = 1.0\n",
    "for i, j in neg:\n",
    "    grid[i, j] = -1\n",
    "\n",
    "print(grid)"
   ]
  },
  {
   "cell_type": "code",
   "execution_count": 167,
   "id": "67c42a70",
   "metadata": {},
   "outputs": [
    {
     "data": {
      "image/png": "[encoded data removed]",
      "text/plain": [
       "<Figure size 432x288 with 2 Axes>"
      ]
     },
     "metadata": {
      "needs_background": "light"
     },
     "output_type": "display_data"
    }
   ],
   "source": [
    "fig, ax = plt.subplots()\n",
    "im = ax.imshow(grid, cmap='RdYlGn', origin='upper')\n",
    "\n",
    "ax.set_xticks(range(10))\n",
    "ax.set_yticks(range(10))\n",
    "\n",
    "#gridlines on cell boundaries\n",
    "ax.set_xticks(np.arange(-0.5, 10, 1), minor=True)\n",
    "ax.set_yticks(np.arange(-0.5, 10, 1), minor=True)\n",
    "ax.grid(which='minor', color='black', linewidth=0.8)\n",
    "ax.tick_params(which='minor', length=0)\n",
    "\n",
    "plt.colorbar(im, ax=ax, label='Reward Value')\n",
    "plt.title(\"Grid\")\n",
    "plt.show()\n"
   ]
  },
  {
   "cell_type": "code",
   "execution_count": 168,
   "id": "fc04018e",
   "metadata": {},
   "outputs": [
    {
     "data": {
      "text/plain": [
       "'\\np chance of taking random step\\nGetting to green ends the game\\nignore invalid steps\\n'"
      ]
     },
     "execution_count": 168,
     "metadata": {},
     "output_type": "execute_result"
    }
   ],
   "source": [
    "'''\n",
    "p chance of taking random step\n",
    "Getting to green ends the game\n",
    "ignore invalid steps\n",
    "'''"
   ]
  },
  {
   "cell_type": "code",
   "execution_count": 169,
   "id": "4b5eb30f",
   "metadata": {},
   "outputs": [],
   "source": [
    "terminal = np.zeros(grid.shape, dtype=bool)\n",
    "for (i, j) in pos:\n",
    "    terminal[i, j] = True\n",
    "\n",
    "#up, down, left, right\n",
    "actions = {\n",
    "    0: (-1, 0),\n",
    "    1: (1, 0),\n",
    "    2: (0, -1),\n",
    "    3: (0, 1)\n",
    "}\n",
    "action_names = {0: '↑', 1: '↓', 2: '←', 3: '→'}\n",
    "\n",
    "p_rand = 0.1\n",
    "gamma = 0.95 #discount factor\n",
    "eps = 1e-8 #convergence threshold\n",
    "\n",
    "H, W = grid.shape\n",
    "all_actions = list(actions.keys())"
   ]
  },
  {
   "cell_type": "code",
   "execution_count": 170,
   "id": "ae6edc50",
   "metadata": {},
   "outputs": [],
   "source": [
    "def step_from(state, act):\n",
    "    \n",
    "    i, j = state\n",
    "    if terminal[i, j]:\n",
    "        return {(i, j): 1.0}\n",
    "    \n",
    "    def result_of(a):\n",
    "        di, dj = actions[a]\n",
    "        ni, nj = i + di, j + dj\n",
    "        if 0 <= ni < H and 0 <= nj < W:\n",
    "            return (ni, nj)\n",
    "        return None\n",
    "\n",
    "    valid_results = {a: result_of(a) for a in all_actions if result_of(a) is not None}\n",
    "\n",
    "    probs = {}\n",
    "    intended = result_of(act)\n",
    "    if intended is not None:\n",
    "        probs[intended] = probs.get(intended, 0.0) + (1 - p_rand)\n",
    "\n",
    "    \n",
    "    p_each = p_rand / len(valid_results)\n",
    "    for out in valid_results.values():\n",
    "        probs[out] = probs.get(out, 0.0) + p_each\n",
    "\n",
    "    total = sum(probs.values())\n",
    "    \n",
    "    for s in list(probs.keys()):\n",
    "        probs[s] /= total\n",
    "\n",
    "    return probs"
   ]
  },
  {
   "cell_type": "code",
   "execution_count": 171,
   "id": "ef26419a",
   "metadata": {},
   "outputs": [],
   "source": [
    "#precompute transitions probabilities P_sa\n",
    "transitions = {} # transition is a dict of dict\n",
    "for i in range(H):\n",
    "    for j in range(W):\n",
    "        transitions[(i, j)] = {}\n",
    "        for a in all_actions:\n",
    "            transitions[(i, j)][a] = step_from((i, j), a)\n",
    "\n",
    "V = np.zeros((H, W))\n",
    "def value_iteration():\n",
    "    for (i, j) in zip(*np.where(terminal)):\n",
    "        V[i, j] = grid[i, j]\n",
    "\n",
    "    iteration = 0\n",
    "    while True:\n",
    "        delta = 0.0\n",
    "        iteration+=1\n",
    "        V_old = V.copy()\n",
    "        for i in range(H):\n",
    "            for j in range(W):\n",
    "                if terminal[i, j]:\n",
    "                    continue\n",
    "                best = -np.inf\n",
    "                for a in all_actions:\n",
    "                    total = 0.0\n",
    "                    for (ni, nj), p in transitions[(i, j)][a].items():\n",
    "                        r = grid[ni, nj]\n",
    "                        if terminal[ni, nj]:\n",
    "                            total += p*r\n",
    "                        else:\n",
    "                            total += p*(r + gamma * V_old[ni, nj])\n",
    "                    if total > best:\n",
    "                        best = total\n",
    "                V[i, j] = best\n",
    "                delta = max(delta, abs(V[i, j] - V_old[i, j]))\n",
    "        if delta < eps:\n",
    "            break\n",
    "\n",
    "    print(f\"Value iteration converged in {iteration} iterations\")\n",
    "    return V"
   ]
  },
  {
   "cell_type": "code",
   "execution_count": 172,
   "id": "60aeed0f",
   "metadata": {},
   "outputs": [
    {
     "name": "stdout",
     "output_type": "stream",
     "text": [
      "Value iteration converged in 32 iterations\n"
     ]
    }
   ],
   "source": [
    "value_iteration()\n",
    "\n",
    "policy = np.full((H, W), None, dtype=object)\n",
    "\n",
    "for i in range(H):\n",
    "    for j in range(W):\n",
    "        if terminal[i, j]:\n",
    "            policy[i, j] = None\n",
    "            continue\n",
    "\n",
    "        best_a = None\n",
    "        best_q = -np.inf\n",
    "        for a in all_actions:\n",
    "            # skip actions that would move off-grid (invalid intended action)\n",
    "            di, dj = actions[a]\n",
    "            ni, nj = i + di, j + dj\n",
    "            if not (0 <= ni < H and 0 <= nj < W):\n",
    "                continue\n",
    "\n",
    "            q = 0.0\n",
    "            for (si, sj), p in transitions[(i, j)][a].items():\n",
    "                r = grid[si, sj]\n",
    "                if terminal[si, sj]:\n",
    "                    q += p * r\n",
    "                else:\n",
    "                    q += p * (r + gamma * V[si, sj])\n",
    "            if q > best_q:\n",
    "                best_q = q\n",
    "                best_a = a\n",
    "\n",
    "        policy[i, j] = best_a\n"
   ]
  },
  {
   "cell_type": "code",
   "execution_count": 173,
   "id": "03d210b5",
   "metadata": {},
   "outputs": [
    {
     "data": {
      "image/png": "[encoded data removed]",
      "text/plain": [
       "<Figure size 432x432 with 2 Axes>"
      ]
     },
     "metadata": {
      "needs_background": "light"
     },
     "output_type": "display_data"
    }
   ],
   "source": [
    "\n",
    "fig, ax = plt.subplots(figsize=(6,6))\n",
    "im = ax.imshow(grid, cmap='RdYlGn', origin='upper')\n",
    "\n",
    "# ticks at centers and gridlines on boundaries\n",
    "ax.set_xticks(np.arange(W))\n",
    "ax.set_yticks(np.arange(H))\n",
    "ax.set_xticks(np.arange(-0.5, W, 1), minor=True)\n",
    "ax.set_yticks(np.arange(-0.5, H, 1), minor=True)\n",
    "ax.grid(which='minor', color='black', linewidth=0.8)\n",
    "ax.tick_params(which='minor', length=0)\n",
    "\n",
    "# build arrow field (U = x-component, V = y-component)\n",
    "X, Y = np.meshgrid(np.arange(W), np.arange(H))\n",
    "U = np.zeros((H, W), dtype=float)\n",
    "V = np.zeros((H, W), dtype=float)\n",
    "\n",
    "for i in range(H):\n",
    "    for j in range(W):\n",
    "        a = policy[i, j]\n",
    "        if a is None:\n",
    "            U[i, j] = 0\n",
    "            V[i, j] = 0\n",
    "            continue\n",
    "        di, dj = actions[a]\n",
    "        U[i, j] = dj\n",
    "        V[i, j] = di \n",
    "\n",
    "ax.quiver(X, Y, U, V, angles='xy', scale_units='xy', scale=2, pivot='middle', color='k')\n",
    "\n",
    "ax.set_aspect('equal')\n",
    "plt.colorbar(im, ax=ax, label='Reward Value')\n",
    "ax.set_title(\"Optimum Policy\")\n",
    "plt.show()\n"
   ]
  },
  {
   "cell_type": "code",
   "execution_count": null,
   "id": "314ccb7f",
   "metadata": {},
   "outputs": [],
   "source": []
  }
 ],
 "metadata": {
  "kernelspec": {
   "display_name": "Python 3",
   "language": "python",
   "name": "python3"
  },
  "language_info": {
   "codemirror_mode": {
    "name": "ipython",
    "version": 3
   },
   "file_extension": ".py",
   "mimetype": "text/x-python",
   "name": "python",
   "nbconvert_exporter": "python",
   "pygments_lexer": "ipython3",
   "version": "3.10.12"
  }
 },
 "nbformat": 4,
 "nbformat_minor": 5
}
