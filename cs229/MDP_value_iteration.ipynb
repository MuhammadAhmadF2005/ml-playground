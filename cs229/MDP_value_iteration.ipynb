{
 "cells": [
  {
   "cell_type": "code",
   "execution_count": 155,
   "id": "91f8f0af",
   "metadata": {},
   "outputs": [],
   "source": [
    "import numpy as np\n",
    "import matplotlib.pyplot as plt"
   ]
  },
  {
   "cell_type": "code",
   "execution_count": 156,
   "id": "fc8be0e3",
   "metadata": {},
   "outputs": [
    {
     "name": "stdout",
     "output_type": "stream",
     "text": [
      "[(1, 1), (1, 2), (1, 3), (2, 1), (2, 2), (2, 3), (4, 7), (7, 4), (7, 5), (8, 4), (8, 5)]\n",
      "[[-0.02 -0.02 -0.02 -0.02 -0.02 -0.02 -0.02 -0.02 -0.02 -1.  ]\n",
      " [-0.02 -0.02 -0.02 -0.02 -0.02 -0.02 -0.02 -0.02 -0.02 -0.02]\n",
      " [-1.   -0.02 -0.02 -0.02 -0.02 -0.02 -0.02 -0.02 -0.02 -0.02]\n",
      " [-0.02 -0.02 -0.02 -0.02 -0.02 -0.02 -0.02 -0.02 -0.02 -0.02]\n",
      " [-0.02 -0.02 -0.02 -0.02 -0.02 -1.   -0.02 -0.02 -0.02 -0.02]\n",
      " [-0.02 -0.02 -0.02 -0.02 -0.02 -0.02 -0.02 -0.02 -0.02 -0.02]\n",
      " [-0.02 -0.02 -0.02 -0.02 -0.02 -0.02 -0.02  1.   -0.02 -0.02]\n",
      " [-0.02 -0.02 -0.02 -0.02 -0.02 -0.02 -0.02 -0.02 -0.02 -0.02]\n",
      " [-0.02 -0.02 -0.02 -0.02 -0.02 -0.02 -0.02 -0.02 -0.02 -0.02]\n",
      " [ 1.   -0.02 -0.02 -0.02 -0.02 -0.02 -0.02 -0.02 -0.02 -1.  ]]\n"
     ]
    }
   ],
   "source": [
    "grid = np.full((10, 10), -0.02)\n",
    "pos = [(9, 0), (6, 7)]\n",
    "neg = [(2, 0), (4, 5), (0, 9), (9, 9)]\n",
    "blockades = [(1, i) for i in range(1, 4)] + [(2, i) for i in range(1, 4)] + [(4, 7), (7, 4), (7, 5), (8, 4), (8, 5)]\n",
    "print(blockades)\n",
    "for i, j in pos:\n",
    "    grid[i, j] = 1.0\n",
    "for i, j in neg:\n",
    "    grid[i, j] = -1\n",
    "\n",
    "print(grid)"
   ]
  },
  {
   "cell_type": "code",
   "execution_count": 157,
   "id": "4e76c4f9",
   "metadata": {},
   "outputs": [
    {
     "name": "stderr",
     "output_type": "stream",
     "text": [
      "/tmp/ipykernel_31227/449891358.py:13: MatplotlibDeprecationWarning: The get_cmap function was deprecated in Matplotlib 3.7 and will be removed in 3.11. Use ``matplotlib.colormaps[name]`` or ``matplotlib.colormaps.get_cmap()`` or ``pyplot.get_cmap()`` instead.\n",
      "  cmap = plt.cm.get_cmap('RdYlGn')\n"
     ]
    },
    {
     "data": {
      "image/png": "[encoded data removed]",
      "text/plain": [
       "<Figure size 432x288 with 2 Axes>"
      ]
     },
     "metadata": {
      "needs_background": "light"
     },
     "output_type": "display_data"
    }
   ],
   "source": [
    "fig, ax = plt.subplots()\n",
    "im = ax.imshow(grid, cmap='RdYlGn', origin='upper')\n",
    "\n",
    "block_mask = np.zeros_like(grid, dtype=bool)\n",
    "for (bi, bj) in blockades:\n",
    "    block_mask[bi, bj] = True\n",
    "\n",
    "grid_masked = np.ma.array(grid, mask = block_mask)\n",
    "\n",
    "ax.set_xticks(range(10))\n",
    "ax.set_yticks(range(10))\n",
    "\n",
    "cmap = plt.cm.get_cmap('RdYlGn')\n",
    "cmap.set_bad('white')\n",
    "\n",
    "im = ax.imshow(grid_masked, cmap=cmap, origin='upper')\n",
    "\n",
    "#gridlines on cell boundaries\n",
    "ax.set_xticks(np.arange(-0.5, 10, 1), minor=True)\n",
    "ax.set_yticks(np.arange(-0.5, 10, 1), minor=True)\n",
    "ax.grid(which='minor', color='black', linewidth=0.8)\n",
    "ax.tick_params(which='minor', length=0)\n",
    "\n",
    "plt.colorbar(im, ax=ax, label='Reward Value')\n",
    "plt.title(\"Grid\")\n",
    "plt.show()\n"
   ]
  },
  {
   "cell_type": "code",
   "execution_count": 158,
   "id": "2f1abaac",
   "metadata": {},
   "outputs": [
    {
     "data": {
      "text/plain": [
       "'\\np chance of taking random step\\nGetting to green ends the game\\nignore invalid steps\\n'"
      ]
     },
     "execution_count": 158,
     "metadata": {},
     "output_type": "execute_result"
    }
   ],
   "source": [
    "'''\n",
    "p chance of taking random step\n",
    "Getting to green ends the game\n",
    "ignore invalid steps\n",
    "'''"
   ]
  },
  {
   "cell_type": "code",
   "execution_count": 159,
   "id": "7a27b036",
   "metadata": {},
   "outputs": [],
   "source": [
    "terminal = np.zeros(grid.shape, dtype=bool)\n",
    "for (i, j) in pos:\n",
    "    terminal[i, j] = True\n",
    "\n",
    "#up, down, left, right\n",
    "actions = {\n",
    "    0: (-1, 0),\n",
    "    1: (1, 0),\n",
    "    2: (0, -1),\n",
    "    3: (0, 1)\n",
    "}\n",
    "action_names = {0: '↑', 1: '↓', 2: '←', 3: '→'}\n",
    "\n",
    "p_rand = 0.1\n",
    "gamma = 0.95 #discount factor\n",
    "eps = 1e-8 #convergence threshold\n",
    "\n",
    "H, W = grid.shape\n",
    "all_actions = list(actions.keys())"
   ]
  },
  {
   "cell_type": "code",
   "execution_count": 160,
   "id": "c9d7cd5f",
   "metadata": {},
   "outputs": [],
   "source": [
    "def step_from(state, act):\n",
    "    \n",
    "    i, j = state\n",
    "    if terminal[i, j]:\n",
    "        return {(i, j): 1.0}\n",
    "    \n",
    "    def result_of(a):\n",
    "        di, dj = actions[a]\n",
    "        ni, nj = i + di, j + dj\n",
    "        if 0 <= ni < H and 0 <= nj < W and not block_mask[ni, nj]:\n",
    "            return (ni, nj)\n",
    "        return None\n",
    "\n",
    "    valid_results = {a: result_of(a) for a in all_actions if result_of(a) is not None}\n",
    "\n",
    "    probs = {}\n",
    "    intended = result_of(act)\n",
    "    if intended is not None:\n",
    "        probs[intended] = probs.get(intended, 0.0) + (1 - p_rand)\n",
    "\n",
    "    \n",
    "    p_each = p_rand / len(valid_results)\n",
    "    for out in valid_results.values():\n",
    "        probs[out] = probs.get(out, 0.0) + p_each\n",
    "\n",
    "    total = sum(probs.values())\n",
    "    \n",
    "    for s in list(probs.keys()):\n",
    "        probs[s] /= total\n",
    "\n",
    "    return probs"
   ]
  },
  {
   "cell_type": "code",
   "execution_count": 161,
   "id": "6415207e",
   "metadata": {},
   "outputs": [
    {
     "name": "stdout",
     "output_type": "stream",
     "text": [
      "Value iteration converged in 37 iterations\n"
     ]
    }
   ],
   "source": [
    "# precompute transitions probabilities P_sa\n",
    "transitions = {}  # transition is a dict of dict\n",
    "\n",
    "for i in range(H):\n",
    "    for j in range(W):\n",
    "        transitions[(i, j)] = {}\n",
    "        if block_mask[i, j]:\n",
    "            continue\n",
    "        for a in all_actions:\n",
    "            transitions[(i, j)][a] = step_from((i, j), a)\n",
    "\n",
    "V = np.zeros((H, W))\n",
    "for (i, j) in zip(*np.where(terminal)):\n",
    "    V[i, j] = grid[i, j]\n",
    "\n",
    "iteration = 0\n",
    "while True:\n",
    "    delta = 0.0\n",
    "    iteration += 1\n",
    "    V_old = V.copy()\n",
    "    for i in range(H):\n",
    "        for j in range(W):\n",
    "            # skip terminal and blockade cells\n",
    "            if terminal[i, j] or block_mask[i, j]:\n",
    "                continue\n",
    "            best = -np.inf\n",
    "            for a in all_actions:\n",
    "                trans = transitions.get((i, j), {}).get(a)\n",
    "                if not trans:\n",
    "                    continue\n",
    "                total = 0.0\n",
    "                for (ni, nj), p in trans.items():\n",
    "                    r = grid[ni, nj]\n",
    "                    if terminal[ni, nj]:\n",
    "                        total += p * r\n",
    "                    else:\n",
    "                        total += p * (r + gamma * V_old[ni, nj])\n",
    "                if total > best:\n",
    "                    best = total\n",
    "            V[i, j] = best\n",
    "            delta = max(delta, abs(V[i, j] - V_old[i, j]))\n",
    "    if delta < eps:\n",
    "        break\n",
    "\n",
    "print(f\"Value iteration converged in {iteration} iterations\")"
   ]
  },
  {
   "cell_type": "code",
   "execution_count": 162,
   "id": "b737d916",
   "metadata": {},
   "outputs": [],
   "source": [
    "policy = np.full((H, W), None, dtype=object)\n",
    "\n",
    "for i in range(H):\n",
    "    for j in range(W):\n",
    "        if terminal[i, j] or block_mask[i, j]:\n",
    "            policy[i, j] = None\n",
    "            continue\n",
    "\n",
    "        best_a = None\n",
    "        best_q = -np.inf\n",
    "        for a in all_actions:\n",
    "            # skip actions that would move off-grid (invalid intended action)\n",
    "            di, dj = actions[a]\n",
    "            ni, nj = i + di, j + dj\n",
    "            if not (0 <= ni < H and 0 <= nj < W):\n",
    "                continue\n",
    "\n",
    "            q = 0.0\n",
    "            for (si, sj), p in transitions[(i, j)][a].items():\n",
    "                r = grid[si, sj]\n",
    "                if terminal[si, sj]:\n",
    "                    q += p * r\n",
    "                else:\n",
    "                    q += p * (r + gamma * V[si, sj])\n",
    "            if q > best_q:\n",
    "                best_q = q\n",
    "                best_a = a\n",
    "\n",
    "        policy[i, j] = best_a"
   ]
  },
  {
   "cell_type": "code",
   "execution_count": 163,
   "id": "26be1a45",
   "metadata": {},
   "outputs": [
    {
     "name": "stderr",
     "output_type": "stream",
     "text": [
      "/tmp/ipykernel_31227/1202423733.py:28: MatplotlibDeprecationWarning: The get_cmap function was deprecated in Matplotlib 3.7 and will be removed in 3.11. Use ``matplotlib.colormaps[name]`` or ``matplotlib.colormaps.get_cmap()`` or ``pyplot.get_cmap()`` instead.\n",
      "  cmap = plt.cm.get_cmap('RdYlGn')\n"
     ]
    },
    {
     "data": {
      "image/png": "[encoded data removed]",
      "text/plain": [
       "<Figure size 432x432 with 2 Axes>"
      ]
     },
     "metadata": {
      "needs_background": "light"
     },
     "output_type": "display_data"
    }
   ],
   "source": [
    "\n",
    "fig, ax = plt.subplots(figsize=(6,6))\n",
    "im = ax.imshow(grid, cmap='RdYlGn', origin='upper')\n",
    "\n",
    "# ticks at centers and gridlines on boundaries\n",
    "ax.set_xticks(np.arange(W))\n",
    "ax.set_yticks(np.arange(H))\n",
    "ax.set_xticks(np.arange(-0.5, W, 1), minor=True)\n",
    "ax.set_yticks(np.arange(-0.5, H, 1), minor=True)\n",
    "ax.grid(which='minor', color='black', linewidth=0.8)\n",
    "ax.tick_params(which='minor', length=0)\n",
    "\n",
    "# build arrow field\n",
    "X, Y = np.meshgrid(np.arange(W), np.arange(H))\n",
    "DX = np.zeros((H, W), dtype=float)\n",
    "DY = np.zeros((H, W), dtype=float)\n",
    "\n",
    "for i in range(H):\n",
    "    for j in range(W):\n",
    "        a = policy[i, j]\n",
    "        if a is None:\n",
    "            DX[i, j] = 0\n",
    "            DY[i, j] = 0\n",
    "            continue\n",
    "        di, dj = actions[a]\n",
    "        DX[i, j] = dj\n",
    "        DY[i, j] = di \n",
    "\n",
    "cmap = plt.cm.get_cmap('RdYlGn')\n",
    "cmap.set_bad('white')\n",
    "\n",
    "im = ax.imshow(grid_masked, cmap=cmap, origin='upper')\n",
    "\n",
    "ax.quiver(X, Y, DX, DY, angles='xy', scale_units='xy', scale=2, pivot='middle', color='k')\n",
    "\n",
    "ax.set_aspect('equal')\n",
    "plt.colorbar(im, ax=ax, label='Reward Value')\n",
    "ax.set_title(\"Optimum Policy\")\n",
    "plt.show()"
   ]
  },
  {
   "cell_type": "code",
   "execution_count": 164,
   "id": "08f9b2b3",
   "metadata": {},
   "outputs": [
    {
     "name": "stdout",
     "output_type": "stream",
     "text": [
      " 0.285  0.327  0.369  0.414  0.461  0.503  0.552  0.537  0.544  0.513\n",
      " 0.213   X      X      X     0.510  0.554  0.608  0.589  0.635  0.562\n",
      " 0.534   X      X      X     0.562  0.609  0.668  0.645  0.700  0.653\n",
      " 0.602  0.590  0.546  0.584  0.616  0.647  0.733  0.704  0.767  0.714\n",
      " 0.699  0.647  0.597  0.640  0.675  0.746  0.802   X     0.839  0.777\n",
      " 0.766  0.708  0.652  0.701  0.765  0.814  0.912  0.990  0.913  0.843\n",
      " 0.836  0.772  0.711  0.763  0.834  0.909  0.988   T     0.988  0.910\n",
      " 0.911  0.841  0.773  0.716   X      X     0.914  0.988  0.912  0.841\n",
      " 0.990  0.913  0.841  0.775   X      X     0.844  0.908  0.838  0.741\n",
      "  T     0.990  0.911  0.836  0.769  0.718  0.778  0.833  0.738  0.684\n"
     ]
    }
   ],
   "source": [
    "for i in range(H):\n",
    "    row = []\n",
    "    for j in range(W):\n",
    "        if block_mask[i, j]:\n",
    "            row.append(\"  X   \")\n",
    "        elif terminal[i, j]:\n",
    "            row.append(\"  T   \")\n",
    "        else:\n",
    "            row.append(f\"{V[i, j]:6.3f}\")\n",
    "    print(\" \".join(row))"
   ]
  },
  {
   "cell_type": "code",
   "execution_count": null,
   "id": "78cfff20",
   "metadata": {},
   "outputs": [],
   "source": []
  },
  {
   "cell_type": "code",
   "execution_count": null,
   "id": "119eeec8",
   "metadata": {},
   "outputs": [],
   "source": []
  },
  {
   "cell_type": "code",
   "execution_count": null,
   "id": "6029ca56",
   "metadata": {},
   "outputs": [],
   "source": []
  },
  {
   "cell_type": "code",
   "execution_count": null,
   "id": "6a22dfff",
   "metadata": {},
   "outputs": [],
   "source": []
  },
  {
   "cell_type": "code",
   "execution_count": null,
   "id": "15b43792",
   "metadata": {},
   "outputs": [],
   "source": []
  }
 ],
 "metadata": {
  "kernelspec": {
   "display_name": "Python 3",
   "language": "python",
   "name": "python3"
  },
  "language_info": {
   "codemirror_mode": {
    "name": "ipython",
    "version": 3
   },
   "file_extension": ".py",
   "mimetype": "text/x-python",
   "name": "python",
   "nbconvert_exporter": "python",
   "pygments_lexer": "ipython3",
   "version": "3.10.12"
  }
 },
 "nbformat": 4,
 "nbformat_minor": 5
}
