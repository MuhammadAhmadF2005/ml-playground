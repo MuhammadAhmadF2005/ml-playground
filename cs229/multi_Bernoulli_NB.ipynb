{
 "cells": [
  {
   "cell_type": "code",
   "execution_count": 1,
   "id": "73751875",
   "metadata": {},
   "outputs": [],
   "source": [
    "import numpy as np\n",
    "from sklearn.datasets import fetch_20newsgroups\n",
    "from sklearn.feature_extraction.text import CountVectorizer\n",
    "from sklearn.model_selection import train_test_split\n",
    "from sklearn.metrics import accuracy_score, classification_report\n"
   ]
  },
  {
   "cell_type": "code",
   "execution_count": 4,
   "id": "6e5477dc",
   "metadata": {},
   "outputs": [],
   "source": [
    "categories = ['comp.graphics', 'comp.sys.mac.hardware', 'talk.politics.misc']\n",
    "data = fetch_20newsgroups(subset='all', categories=categories,\n",
    "                          remove=('headers', 'footers', 'quotes'))"
   ]
  },
  {
   "cell_type": "code",
   "execution_count": 9,
   "id": "c50564c4",
   "metadata": {},
   "outputs": [
    {
     "data": {
      "text/plain": [
       "\"\\n\\n\\tYou don't know much about the fall of Diem's government in Vietnam.\\n\\tOr the traditional Indian pr\""
      ]
     },
     "execution_count": 9,
     "metadata": {},
     "output_type": "execute_result"
    }
   ],
   "source": [
    "data.data[0][:100]"
   ]
  },
  {
   "cell_type": "code",
   "execution_count": 10,
   "id": "d4e9da8d",
   "metadata": {},
   "outputs": [],
   "source": [
    "y = np.array([1 if data.target_names[t] == 'talk.politics.misc' else 0\n",
    "              for t in data.target])"
   ]
  },
  {
   "cell_type": "code",
   "execution_count": 12,
   "id": "194d999c",
   "metadata": {},
   "outputs": [],
   "source": [
    "vectorizer = CountVectorizer(binary=True, stop_words='english', max_features=2000)\n",
    "X = vectorizer.fit_transform(data.data)\n",
    "X = X.toarray()\n",
    "\n",
    "n, V = X.shape   # n = docs, V = vocabulary size\n",
    "X_train, X_test, y_train, y_test = train_test_split(X, y, test_size=0.3, random_state=42)"
   ]
  },
  {
   "cell_type": "code",
   "execution_count": 19,
   "id": "a2ee3774",
   "metadata": {},
   "outputs": [],
   "source": [
    "class BernoulliNB:\n",
    "    def fit(self, X, y, alpha =1.0):\n",
    "        #alpha: laplace smoothing feature\n",
    "        n, V = X.shape\n",
    "        self.V = V\n",
    "\n",
    "        self.phi_y = np.mean(y)\n",
    "\n",
    "        X_y1 = X[y==1]\n",
    "        self.phi_y1 = (alpha + np.sum(X_y1, axis=0)) / (V*alpha + np.sum(X_y1))\n",
    "\n",
    "        X_y0 = X[y==0]\n",
    "        self.phi_y0 = (alpha + np.sum(X_y0, axis=0)) / (V*alpha + np.sum(X_y0))\n",
    "\n",
    "    def predict_log_prob(self, X):\n",
    "        log_p_y1 = np.log(self.phi_y) + (X * np.log(self.phi_y1) + (1-X) * np.log(1 - self.phi_y1)).sum(axis=1)\n",
    "        log_p_y0 = np.log(1 - self.phi_y) + (X * np.log(self.phi_y0) + (1-X) * np.log(1 - self.phi_y0)).sum(axis=1)\n",
    "\n",
    "        return np.vstack([log_p_y0, log_p_y1]).T\n",
    "    \n",
    "    def predict(self, X):\n",
    "        log_probs = self.predict_log_prob(X)\n",
    "        return np.argmax(log_probs, axis = 1)\n"
   ]
  },
  {
   "cell_type": "code",
   "execution_count": 20,
   "id": "9e7b4333",
   "metadata": {},
   "outputs": [],
   "source": [
    "model = BernoulliNB()\n",
    "model.fit(X_train, y_train, alpha=1.0)"
   ]
  },
  {
   "cell_type": "code",
   "execution_count": 21,
   "id": "5c4dff83",
   "metadata": {},
   "outputs": [
    {
     "name": "stdout",
     "output_type": "stream",
     "text": [
      "Accuracy: 0.9557739557739557\n",
      "\n",
      "Classification Report:\n",
      "               precision    recall  f1-score   support\n",
      "\n",
      "    Non-Spam       0.96      0.98      0.97       569\n",
      "        Spam       0.95      0.90      0.92       245\n",
      "\n",
      "    accuracy                           0.96       814\n",
      "   macro avg       0.95      0.94      0.95       814\n",
      "weighted avg       0.96      0.96      0.96       814\n",
      "\n"
     ]
    }
   ],
   "source": [
    "y_pred = model.predict(X_test)\n",
    "\n",
    "print(\"Accuracy:\", accuracy_score(y_test, y_pred))\n",
    "print(\"\\nClassification Report:\\n\", classification_report(y_test, y_pred, target_names=[\"Non-Spam\", \"Spam\"]))"
   ]
  },
  {
   "cell_type": "code",
   "execution_count": null,
   "id": "728e284c",
   "metadata": {},
   "outputs": [],
   "source": []
  }
 ],
 "metadata": {
  "kernelspec": {
   "display_name": "Python 3",
   "language": "python",
   "name": "python3"
  },
  "language_info": {
   "codemirror_mode": {
    "name": "ipython",
    "version": 3
   },
   "file_extension": ".py",
   "mimetype": "text/x-python",
   "name": "python",
   "nbconvert_exporter": "python",
   "pygments_lexer": "ipython3",
   "version": "3.10.12"
  }
 },
 "nbformat": 4,
 "nbformat_minor": 5
}
