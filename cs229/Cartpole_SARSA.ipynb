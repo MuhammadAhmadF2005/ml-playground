{
 "cells": [
  {
   "cell_type": "code",
   "execution_count": 87,
   "id": "90196973",
   "metadata": {},
   "outputs": [],
   "source": [
    "import gymnasium as gym\n",
    "import numpy as np\n",
    "import math"
   ]
  },
  {
   "cell_type": "code",
   "execution_count": 88,
   "id": "0860fb09",
   "metadata": {},
   "outputs": [
    {
     "name": "stdout",
     "output_type": "stream",
     "text": [
      "/usr/local/bin/python\n"
     ]
    }
   ],
   "source": [
    "import sys\n",
    "print(sys.executable)"
   ]
  },
  {
   "cell_type": "code",
   "execution_count": 89,
   "id": "bc639d28",
   "metadata": {},
   "outputs": [
    {
     "name": "stdout",
     "output_type": "stream",
     "text": [
      "[4.8               inf 0.41887903        inf]\n",
      "[-4.8               -inf -0.41887903        -inf]\n",
      "2\n"
     ]
    }
   ],
   "source": [
    "env = gym.make(\"CartPole-v1\")\n",
    "print(env.observation_space.high, env.observation_space.low, env.action_space.n, sep=\"\\n\")"
   ]
  },
  {
   "cell_type": "code",
   "execution_count": 90,
   "id": "e966bbe2",
   "metadata": {},
   "outputs": [],
   "source": [
    "#hyperparameters\n",
    "EPISPODES = 40000\n",
    "DISCOUNT = 0.95\n",
    "EP_DISPLAY = 2000\n",
    "LR = 0.2\n",
    "EPSILON = 0.2 #p to explore\n",
    "\n",
    "theta_lim = env.observation_space.high[2]\n",
    "theta_dot_lim = math.radians(50)\n",
    "theta_state_size = 50\n",
    "theta_dot_state_size = 50\n",
    "\n",
    "Q_table = np.random.randn(theta_state_size, theta_dot_state_size, env.action_space.n)\n",
    "\n",
    "ep_rewards = []\n",
    "ep_rewards_table = {'ep':[], 'avg':[], 'min':[], 'max':[]}"
   ]
  },
  {
   "cell_type": "code",
   "execution_count": 91,
   "id": "506462b2",
   "metadata": {},
   "outputs": [],
   "source": [
    "def discretised_state(state):\n",
    "    discretised_state = np.array([0,0]) #theta, theta dot\n",
    "    theta_window = 2*theta_lim/theta_state_size\n",
    "    discretised_state[0] = min(theta_state_size-1, max(0, (state[2]+theta_lim)//theta_window))\n",
    "\n",
    "    theat_dot_window = 2*theta_dot_lim/theta_dot_state_size\n",
    "    discretised_state[1] = min(theta_dot_state_size-1, max(0, (state[3]+theta_dot_lim)//theat_dot_window))\n",
    "\n",
    "    return tuple(discretised_state.astype(np.int64))\n"
   ]
  },
  {
   "cell_type": "code",
   "execution_count": 92,
   "id": "d6824996",
   "metadata": {},
   "outputs": [
    {
     "name": "stdout",
     "output_type": "stream",
     "text": [
      "Episode;0 avg:12.0 min:12.0 max:12.0\n",
      "Episode;2000 avg:15.37 min:8.0 max:65.0\n",
      "Episode;4000 avg:16.1785 min:8.0 max:96.0\n",
      "Episode;6000 avg:20.9495 min:8.0 max:111.0\n",
      "Episode;8000 avg:28.425 min:8.0 max:185.0\n",
      "Episode;10000 avg:40.1 min:8.0 max:276.0\n",
      "Episode;12000 avg:58.238 min:9.0 max:387.0\n",
      "Episode;14000 avg:84.7295 min:9.0 max:500.0\n",
      "Episode;16000 avg:153.0955 min:9.0 max:500.0\n",
      "Episode;18000 avg:230.2515 min:9.0 max:500.0\n",
      "Episode;20000 avg:246.703 min:10.0 max:500.0\n",
      "Episode;22000 avg:238.9045 min:9.0 max:500.0\n",
      "Episode;24000 avg:259.442 min:8.0 max:500.0\n",
      "Episode;26000 avg:255.517 min:10.0 max:500.0\n",
      "Episode;28000 avg:246.2165 min:9.0 max:500.0\n",
      "Episode;30000 avg:250.6275 min:10.0 max:500.0\n",
      "Episode;32000 avg:274.453 min:9.0 max:500.0\n",
      "Episode;34000 avg:233.8125 min:9.0 max:500.0\n",
      "Episode;36000 avg:236.77 min:9.0 max:500.0\n",
      "Episode;38000 avg:258.859 min:9.0 max:500.0\n"
     ]
    }
   ],
   "source": [
    "for ep in range(EPISPODES):\n",
    "    ep_reward = 0\n",
    "    flag = False\n",
    "\n",
    "    obs, _ = env.reset()\n",
    "    curr_discrete_state = discretised_state(obs)\n",
    "    \n",
    "    if np.random.random() > EPSILON:\n",
    "        action = np.argmax(Q_table[curr_discrete_state])\n",
    "    else:\n",
    "        action = np.random.randint(0, env.action_space.n)\n",
    "\n",
    "    while not flag:\n",
    "        next_state, reward, terminated, truncated, _ = env.step(action)\n",
    "        flag = terminated or truncated\n",
    "\n",
    "        new_discrete_state = discretised_state(next_state)\n",
    "\n",
    "        if np.random.random() > EPSILON:\n",
    "            new_action = np.argmax(Q_table[new_discrete_state])\n",
    "        else:\n",
    "            action = np.random.randint(0, env.action_space.n)\n",
    "\n",
    "        if ep%EP_DISPLAY == 0:\n",
    "            env.render()\n",
    "        \n",
    "        if not flag:\n",
    "            curr_q = Q_table[curr_discrete_state+(action, )]\n",
    "            max_future_q = Q_table[new_discrete_state+(new_action, )]\n",
    "            new_q = curr_q + LR*(reward+DISCOUNT*max_future_q - curr_q)\n",
    "            Q_table[curr_discrete_state+(action, )] = new_q\n",
    "        \n",
    "        curr_discrete_state = new_discrete_state\n",
    "        action = new_action\n",
    "\n",
    "        ep_reward += reward\n",
    "    ep_rewards.append(ep_reward)\n",
    "    \n",
    "    if ep % EP_DISPLAY == 0:\n",
    "        avg_reward = sum(ep_rewards[-EP_DISPLAY:])/len(ep_rewards[-EP_DISPLAY:])\n",
    "        ep_rewards_table['ep'].append(ep)\n",
    "        ep_rewards_table['avg'].append(avg_reward)\n",
    "        ep_rewards_table['min'].append(min(ep_rewards[-EP_DISPLAY:]))\n",
    "        ep_rewards_table['max'].append(max(ep_rewards[-EP_DISPLAY:]))\n",
    "        print(f\"Episode;{ep} avg:{avg_reward} min:{min(ep_rewards[-EP_DISPLAY:])} max:{max(ep_rewards[-EP_DISPLAY:])}\")\n",
    "\n",
    "env.close()\n"
   ]
  },
  {
   "cell_type": "code",
   "execution_count": 93,
   "id": "c8fbd91b",
   "metadata": {},
   "outputs": [
    {
     "data": {
      "image/png": "[encoded data removed]",
      "text/plain": [
       "<Figure size 432x288 with 1 Axes>"
      ]
     },
     "metadata": {
      "needs_background": "light"
     },
     "output_type": "display_data"
    }
   ],
   "source": [
    "import matplotlib.pyplot as plt\n",
    "\n",
    "plt.plot(ep_rewards_table['ep'], ep_rewards_table['avg'], label='avg')\n",
    "plt.plot(ep_rewards_table['ep'], ep_rewards_table['min'], label='min')\n",
    "plt.plot(ep_rewards_table['ep'], ep_rewards_table['max'], label='max')\n",
    "plt.legend(loc=4)\n",
    "plt.title('CartPole SARSA')\n",
    "plt.ylabel('Average rewards/episode')\n",
    "plt.xlabel('Episodes')\n",
    "plt.show()"
   ]
  },
  {
   "cell_type": "code",
   "execution_count": null,
   "id": "82512269",
   "metadata": {},
   "outputs": [],
   "source": []
  },
  {
   "cell_type": "code",
   "execution_count": null,
   "id": "8c4c643d",
   "metadata": {},
   "outputs": [],
   "source": []
  },
  {
   "cell_type": "code",
   "execution_count": null,
   "id": "c163a0ee",
   "metadata": {},
   "outputs": [],
   "source": []
  }
 ],
 "metadata": {
  "kernelspec": {
   "display_name": "Python 3",
   "language": "python",
   "name": "python3"
  },
  "language_info": {
   "codemirror_mode": {
    "name": "ipython",
    "version": 3
   },
   "file_extension": ".py",
   "mimetype": "text/x-python",
   "name": "python",
   "nbconvert_exporter": "python",
   "pygments_lexer": "ipython3",
   "version": "3.10.12"
  }
 },
 "nbformat": 4,
 "nbformat_minor": 5
}
