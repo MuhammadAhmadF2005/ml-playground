{
 "cells": [
  {
   "cell_type": "code",
   "execution_count": 48,
   "id": "2085c898",
   "metadata": {},
   "outputs": [],
   "source": [
    "from sklearn.datasets import load_digits\n",
    "import pandas as pd\n",
    "import numpy as np"
   ]
  },
  {
   "cell_type": "code",
   "execution_count": 49,
   "id": "32175592",
   "metadata": {},
   "outputs": [
    {
     "name": "stdout",
     "output_type": "stream",
     "text": [
      "1797 65 10\n"
     ]
    }
   ],
   "source": [
    "X, y = load_digits(return_X_y=True)\n",
    "X = np.c_[np.ones(X.shape[0]), X]\n",
    "n_samples, n_features = X.shape\n",
    "n_classes = len(np.unique(y))\n",
    "\n",
    "data = load_digits()\n",
    "cols = [\"bias\"] + list(data.feature_names)\n",
    "df = pd.DataFrame(X, columns=cols)\n",
    "df[\"target\"] = y\n",
    "\n",
    "print(n_samples, n_features, n_classes)"
   ]
  },
  {
   "cell_type": "code",
   "execution_count": null,
   "id": "e84f3d23",
   "metadata": {},
   "outputs": [],
   "source": []
  },
  {
   "cell_type": "code",
   "execution_count": 50,
   "id": "b71c6613",
   "metadata": {},
   "outputs": [],
   "source": [
    "from sklearn.model_selection import train_test_split\n",
    "X_train, X_test, y_train, y_test = train_test_split(X, y, test_size=0.2, random_state=42)"
   ]
  },
  {
   "cell_type": "code",
   "execution_count": 51,
   "id": "68acd961",
   "metadata": {},
   "outputs": [],
   "source": [
    "def softmax(z):\n",
    "    z-= np.max(z, axis=1, keepdims=True)\n",
    "    exp_z = np.exp(z)\n",
    "    return exp_z / np.sum(exp_z, axis = 1, keepdims=True)\n",
    "\n",
    "def one_hot(y, num_classes):\n",
    "    out = np.zeros((y.shape[0], num_classes))\n",
    "    out[np.arange(y.shape[0]), y] = 1\n",
    "    return out"
   ]
  },
  {
   "cell_type": "code",
   "execution_count": 52,
   "id": "c773352d",
   "metadata": {},
   "outputs": [],
   "source": [
    "def train_softmax(X, y, theta, lr = 0.01, epochs = 100, batch_size = 32):\n",
    "    y_onehot = one_hot(y, n_classes)\n",
    "    n = X.shape[0]\n",
    "\n",
    "    for _ in range(epochs):\n",
    "        idx = np.random.permutation(n)\n",
    "        X, y_onehot = X[idx], y_onehot[idx]\n",
    "\n",
    "        for i in range(0, n, batch_size):\n",
    "            X_batch = X[i: i+batch_size]\n",
    "            y_batch = y_onehot[i: i+batch_size]\n",
    "\n",
    "            logits= X_batch @ theta\n",
    "            probs = softmax(logits)\n",
    "            grad = X_batch.T @ (probs-y_batch)/ X_batch.shape[0]\n",
    "\n",
    "            theta -= lr*grad\n",
    "    return theta\n",
    "\n"
   ]
  },
  {
   "cell_type": "code",
   "execution_count": 64,
   "id": "5b0d7401",
   "metadata": {},
   "outputs": [],
   "source": [
    "theta = np.zeros((n_features, n_classes))\n",
    "theta = train_softmax(X_train, y_train, theta)\n",
    "\n",
    "probs = softmax(X_test @ theta)\n",
    "y_pred = np.argmax(probs, axis=1)"
   ]
  },
  {
   "cell_type": "code",
   "execution_count": 65,
   "id": "76409885",
   "metadata": {},
   "outputs": [
    {
     "name": "stdout",
     "output_type": "stream",
     "text": [
      "0.9722222222222222\n"
     ]
    }
   ],
   "source": [
    "from sklearn.metrics import accuracy_score\n",
    "\n",
    "print(accuracy_score(y_test, y_pred))"
   ]
  },
  {
   "cell_type": "code",
   "execution_count": null,
   "id": "58b047e8",
   "metadata": {},
   "outputs": [],
   "source": []
  }
 ],
 "metadata": {
  "kernelspec": {
   "display_name": "Python 3",
   "language": "python",
   "name": "python3"
  },
  "language_info": {
   "codemirror_mode": {
    "name": "ipython",
    "version": 3
   },
   "file_extension": ".py",
   "mimetype": "text/x-python",
   "name": "python",
   "nbconvert_exporter": "python",
   "pygments_lexer": "ipython3",
   "version": "3.10.12"
  }
 },
 "nbformat": 4,
 "nbformat_minor": 5
}
