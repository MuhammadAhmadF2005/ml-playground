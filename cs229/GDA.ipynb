{
 "cells": [
  {
   "cell_type": "code",
   "execution_count": 1,
   "id": "df536c46",
   "metadata": {},
   "outputs": [],
   "source": [
    "from sklearn.datasets import load_breast_cancer\n",
    "import pandas as pd\n",
    "import numpy as np"
   ]
  },
  {
   "cell_type": "code",
   "execution_count": 5,
   "id": "7db32dc9",
   "metadata": {},
   "outputs": [],
   "source": [
    "X, y = load_breast_cancer(return_X_y= True)\n",
    "from sklearn.model_selection import train_test_split\n",
    "\n",
    "X_train, X_test, y_train, y_test = train_test_split(X, y, test_size=0.2, random_state=42)\n",
    "\n"
   ]
  },
  {
   "cell_type": "code",
   "execution_count": 33,
   "id": "7eade50c",
   "metadata": {},
   "outputs": [],
   "source": [
    "n, d = X_train.shape\n",
    "\n",
    "phi = np.mean(y_train)\n",
    "\n",
    "mask1 = (y_train == 1)\n",
    "mask0 = ~mask1\n",
    "n1 = mask1.sum()\n",
    "n0 = mask0.sum()\n",
    "\n",
    "mu1 = X_train[mask1].sum(axis=0)/ n1\n",
    "mu0 = X_train[mask0].sum(axis=0)/ n0\n",
    "\n",
    "X_centered = np.empty_like(X_train)\n",
    "X_centered[mask1] = X_train[mask1] - mu1\n",
    "X_centered[mask0] = X_train[mask0] - mu0\n",
    "\n",
    "Sigma = (X_centered.T @ X_centered)/n\n",
    "\n",
    "eps = 1e-8\n",
    "Sigma += eps* np.eye(Sigma.shape[0])\n",
    "\n"
   ]
  },
  {
   "cell_type": "code",
   "execution_count": 34,
   "id": "64445ec2",
   "metadata": {},
   "outputs": [],
   "source": [
    "def h0(X, phi, mu1, mu0, Sigma):\n",
    "    inv_Sigma = np.linalg.inv(Sigma)\n",
    "    det_Sigma = np.linalg.det(Sigma)\n",
    "\n",
    "    norm_const = (2*np.pi)**(X.shape[1]/2) * np.sqrt(det_Sigma)\n",
    "\n",
    "    def gaussian_pdf(x, mu):\n",
    "        diff = x - mu\n",
    "        return np.exp(-0.5 * diff.T @ inv_Sigma @ diff)/ norm_const\n",
    "\n",
    "    probs = []\n",
    "    for x in X:\n",
    "        p1 = phi*gaussian_pdf(x, mu1)\n",
    "        p0 = (1-phi)*gaussian_pdf(x, mu0)\n",
    "        probs.append(p1/(p1+p0))\n",
    "    \n",
    "    return np.array(probs)"
   ]
  },
  {
   "cell_type": "code",
   "execution_count": 37,
   "id": "b4dd0f02",
   "metadata": {},
   "outputs": [
    {
     "name": "stdout",
     "output_type": "stream",
     "text": [
      "0.956140350877193\n"
     ]
    }
   ],
   "source": [
    "probs = h0(X_test, phi, mu1, mu0, Sigma)\n",
    "y_preds = (probs>=0.5).astype(int)\n",
    "\n",
    "accuracy = np.mean(y_test==y_preds)\n",
    "print(accuracy)"
   ]
  },
  {
   "cell_type": "code",
   "execution_count": null,
   "id": "2529715c",
   "metadata": {},
   "outputs": [],
   "source": []
  }
 ],
 "metadata": {
  "kernelspec": {
   "display_name": "Python 3",
   "language": "python",
   "name": "python3"
  },
  "language_info": {
   "codemirror_mode": {
    "name": "ipython",
    "version": 3
   },
   "file_extension": ".py",
   "mimetype": "text/x-python",
   "name": "python",
   "nbconvert_exporter": "python",
   "pygments_lexer": "ipython3",
   "version": "3.10.12"
  }
 },
 "nbformat": 4,
 "nbformat_minor": 5
}
