{
 "cells": [
  {
   "cell_type": "markdown",
   "id": "b80c4613",
   "metadata": {},
   "source": [
    "1d spatial pde\n",
    "\n",
    "u_t = alpha *u_xx\n",
    "\n",
    "Recover alpha + predict u_t"
   ]
  },
  {
   "cell_type": "code",
   "execution_count": 30,
   "id": "d1b3979e",
   "metadata": {},
   "outputs": [],
   "source": [
    "import torch\n",
    "import torch.nn as nn\n",
    "import numpy as np\n",
    "import matplotlib.pyplot as plt"
   ]
  },
  {
   "cell_type": "code",
   "execution_count": 31,
   "id": "0f434d2d",
   "metadata": {},
   "outputs": [],
   "source": [
    "L = 1.0\n",
    "alpha_true = 0.3\n",
    "Q = 2.0\n",
    "a = 0\n",
    "b = 0\n",
    "N_modes = 100\n",
    "\n",
    "xs = np.linspace(0, L, 200)\n",
    "ts = np.linspace(0, 0.5, 100)\n",
    "\n",
    "def u_s(x, alpha):\n",
    "    C2 = a\n",
    "    C1 = (b-a + (Q/(2*alpha))*L**2)/L\n",
    "    return -Q/(2*alpha)*x**2 + C1*x + C2\n",
    "\n",
    "u0 = u_s(xs, alpha_true) + 0.5*np.exp(-((xs-0.4)**2)/(2*(0.05**2)))\n",
    "\n",
    "b_n = np.zeros(N_modes)\n",
    "for n in range(1, N_modes+1):\n",
    "    phi = np.sin(n*np.pi*xs/L)\n",
    "    integrand = (u0 - u_s(xs, alpha_true)) * phi\n",
    "    b_n[n-1] = 2.0/L * np.trapezoid(integrand, xs)\n",
    "\n",
    "def u_xt(x, t, alpha):\n",
    "    s = u_s(x, alpha)\n",
    "    for n in range(1, N_modes+1):\n",
    "        s += b_n[n-1]*np.sin(n*np.pi*x/L)*np.exp(-alpha*(n*np.pi/L)**2 * t)\n",
    "    return s\n",
    "\n",
    "U = np.zeros((len(xs), len(ts)))\n",
    "for i, x in enumerate(xs):\n",
    "    U[i, :] = u_xt(x, ts, alpha_true)\n",
    "\n",
    "noise_level = 0.20\n",
    "U_noisy = U + noise_level*np.random.randn(*U.shape)*np.abs(U)\n",
    "\n",
    "X, T = np.meshgrid(xs, ts, indexing='ij')\n",
    "x_data_tensor = torch.tensor(X.flatten(), dtype=torch.float32).view(-1,1)\n",
    "t_data_tensor = torch.tensor(T.flatten(), dtype=torch.float32).view(-1,1)\n",
    "U_data_tensor = torch.tensor(U_noisy.flatten(), dtype=torch.float32).view(-1,1)\n",
    "U_exact_tensor = torch.tensor(U.flatten(), dtype=torch.float32).view(-1, 1)\n",
    "\n",
    "x_ic_tensor = torch.tensor(xs, dtype=torch.float32).view(-1,1)\n",
    "t_ic_tensor = torch.zeros_like(x_ic_tensor)\n",
    "u_ic_tensor = torch.tensor(u0, dtype=torch.float32).view(-1,1)\n",
    "\n",
    "t_bc_tensor = torch.tensor(ts, dtype=torch.float32).view(-1,1)"
   ]
  },
  {
   "cell_type": "code",
   "execution_count": 32,
   "id": "9bf51943",
   "metadata": {},
   "outputs": [],
   "source": [
    "class PINN(nn.Module):\n",
    "    def __init__(self, n_hidden=20, n_layers=2):\n",
    "        super().__init__()\n",
    "        layers = [nn.Linear(2, n_hidden), nn.Tanh()]\n",
    "        for _ in range(n_layers - 1):\n",
    "            layers += [nn.Linear(n_hidden, n_hidden), nn.Tanh()]\n",
    "        layers += [nn.Linear(n_hidden, 1)]\n",
    "        self.net = nn.Sequential(*layers)\n",
    "\n",
    "        self.alpha = nn.Parameter(torch.rand(1))\n",
    "\n",
    "    def forward(self, x, t):\n",
    "        XT = torch.cat((x, t), dim=1)\n",
    "        return self.net(XT)\n",
    "\n",
    "model = PINN()"
   ]
  },
  {
   "cell_type": "code",
   "execution_count": 33,
   "id": "4ebed8b1",
   "metadata": {},
   "outputs": [],
   "source": [
    "def derivative(y, x):\n",
    "    return torch.autograd.grad(\n",
    "        y, x,\n",
    "        grad_outputs=torch.ones_like(y),\n",
    "        create_graph=True\n",
    "    )[0]"
   ]
  },
  {
   "cell_type": "code",
   "execution_count": 36,
   "id": "09995e16",
   "metadata": {},
   "outputs": [],
   "source": [
    "def pde_loss(model, x, t):\n",
    "    t.requires_grad_(True)\n",
    "    x.requires_grad_(True)\n",
    "    u_pred = model(x, t)\n",
    "    du_dt_pred = derivative(u_pred, t)\n",
    "    du_dx_pred = derivative(u_pred, x)\n",
    "    du_dxx_pred = derivative(du_dx_pred, x)\n",
    "    return torch.mean((du_dt_pred - model.alpha * du_dxx_pred)**2)\n",
    "\n",
    "def data_loss(model, x, t, u_data):\n",
    "    u_pred = model(x, t)\n",
    "    return torch.mean((u_pred - u_data)**2)\n",
    "\n",
    "def ic_loss(model, x_ic, t_ic, u_ic):\n",
    "    u_pred = model(x_ic, t_ic)\n",
    "    return torch.mean((u_pred - u_ic) ** 2)\n",
    "\n",
    "def bc_loss(model, t_bc, L):\n",
    "    x_left = torch.zeros_like(t_bc)\n",
    "    u_pred_left = model(x_left, t_bc)\n",
    "    loss_left = torch.mean((u_pred_left - a) ** 2)\n",
    "\n",
    "    x_right = torch.full_like(t_bc, L)\n",
    "    u_pred_right = model(x_right, t_bc)\n",
    "    loss_right = torch.mean((u_pred_right - b) ** 2)\n",
    "\n",
    "    return loss_left + loss_right"
   ]
  },
  {
   "cell_type": "code",
   "execution_count": 37,
   "id": "3ac098c1",
   "metadata": {},
   "outputs": [
    {
     "name": "stdout",
     "output_type": "stream",
     "text": [
      "Epoch 200/2000, Total Loss = 0.030925, Data Loss = 0.019341, PDE Loss = 0.002674, IC Loss = 0.008651, Predicted Alpha = 0.014166\n",
      "Epoch 400/2000, Total Loss = 0.028332, Data Loss = 0.019085, PDE Loss = 0.001516, IC Loss = 0.007596, Predicted Alpha = 0.012791\n",
      "Epoch 600/2000, Total Loss = 0.038254, Data Loss = 0.022193, PDE Loss = 0.001145, IC Loss = 0.011004, Predicted Alpha = 0.011999\n",
      "Epoch 800/2000, Total Loss = 0.027131, Data Loss = 0.018993, PDE Loss = 0.000892, IC Loss = 0.007179, Predicted Alpha = 0.011131\n",
      "Epoch 1000/2000, Total Loss = 0.026636, Data Loss = 0.019025, PDE Loss = 0.000787, IC Loss = 0.006767, Predicted Alpha = 0.009903\n",
      "Epoch 1200/2000, Total Loss = 0.026049, Data Loss = 0.019205, PDE Loss = 0.000642, IC Loss = 0.006149, Predicted Alpha = 0.008262\n",
      "Epoch 1400/2000, Total Loss = 0.025571, Data Loss = 0.019505, PDE Loss = 0.000562, IC Loss = 0.005464, Predicted Alpha = 0.006827\n",
      "Epoch 1600/2000, Total Loss = 0.025311, Data Loss = 0.019726, PDE Loss = 0.000549, IC Loss = 0.004989, Predicted Alpha = 0.006102\n",
      "Epoch 1800/2000, Total Loss = 0.025125, Data Loss = 0.019864, PDE Loss = 0.000544, IC Loss = 0.004668, Predicted Alpha = 0.005612\n",
      "Epoch 2000/2000, Total Loss = 0.024939, Data Loss = 0.019915, PDE Loss = 0.000557, IC Loss = 0.004419, Predicted Alpha = 0.005424\n"
     ]
    }
   ],
   "source": [
    "optimizer = torch.optim.Adam(model.parameters(), lr=0.01)\n",
    "\n",
    "lambda_data = 1.0\n",
    "lambda_pde  = 1.0\n",
    "lambda_ic   = 1.0\n",
    "lambda_bc   = 1.0\n",
    "\n",
    "num_epochs = 2000\n",
    "print_every = num_epochs // 10\n",
    "\n",
    "model.train()\n",
    "for epoch in range(num_epochs):\n",
    "    optimizer.zero_grad()\n",
    "\n",
    "    l_data = data_loss(model, x_data_tensor, t_data_tensor, U_data_tensor)\n",
    "    l_pde  = pde_loss(model, x_data_tensor, t_data_tensor)\n",
    "    l_ic   = ic_loss(model, x_ic_tensor, t_ic_tensor, u_ic_tensor)\n",
    "    l_bc   = bc_loss(model, t_bc_tensor, L)\n",
    "\n",
    "    loss = lambda_data * l_data + lambda_pde * l_pde + lambda_ic * l_ic + lambda_bc * l_bc\n",
    "    loss.backward()\n",
    "    optimizer.step()\n",
    "\n",
    "    if (epoch+1) % print_every == 0:\n",
    "        print(f\"Epoch {epoch+1}/{num_epochs}, \"\n",
    "              f\"Total Loss = {loss.item():.6f}, \"\n",
    "              f\"Data Loss = {l_data.item():.6f}, \"\n",
    "              f\"PDE Loss = {l_pde.item():.6f}, \"\n",
    "              f\"IC Loss = {l_ic.item():.6f}, \"\n",
    "              f\"Predicted Alpha = {model.alpha.item():.6f}\")"
   ]
  },
  {
   "cell_type": "code",
   "execution_count": 38,
   "id": "4212d7c1",
   "metadata": {},
   "outputs": [
    {
     "name": "stdout",
     "output_type": "stream",
     "text": [
      "\n",
      "True alpha: 0.3\n",
      "Learned alpha: 0.005424311384558678\n"
     ]
    }
   ],
   "source": [
    "print(\"\\nTrue alpha:\", alpha_true)\n",
    "print(\"Learned alpha:\", model.alpha.item())"
   ]
  },
  {
   "cell_type": "code",
   "execution_count": null,
   "id": "583c5612",
   "metadata": {},
   "outputs": [],
   "source": []
  },
  {
   "cell_type": "code",
   "execution_count": null,
   "id": "d4c37047",
   "metadata": {},
   "outputs": [],
   "source": []
  },
  {
   "cell_type": "code",
   "execution_count": null,
   "id": "44808f67",
   "metadata": {},
   "outputs": [],
   "source": []
  }
 ],
 "metadata": {
  "kernelspec": {
   "display_name": "Python 3",
   "language": "python",
   "name": "python3"
  },
  "language_info": {
   "codemirror_mode": {
    "name": "ipython",
    "version": 3
   },
   "file_extension": ".py",
   "mimetype": "text/x-python",
   "name": "python",
   "nbconvert_exporter": "python",
   "pygments_lexer": "ipython3",
   "version": "3.10.12"
  }
 },
 "nbformat": 4,
 "nbformat_minor": 5
}
