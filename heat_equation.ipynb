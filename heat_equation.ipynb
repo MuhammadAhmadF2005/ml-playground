{
 "cells": [
  {
   "cell_type": "markdown",
   "id": "b80c4613",
   "metadata": {},
   "source": [
    "1d spatial pde\n",
    "\n",
    "u_t = alpha *u_xx\n",
    "\n",
    "Recover alpha + predict u_t"
   ]
  },
  {
   "cell_type": "code",
   "execution_count": 62,
   "id": "d1b3979e",
   "metadata": {},
   "outputs": [],
   "source": [
    "import torch\n",
    "import torch.nn as nn\n",
    "import numpy as np\n",
    "import matplotlib.pyplot as plt"
   ]
  },
  {
   "cell_type": "code",
   "execution_count": 63,
   "id": "0f434d2d",
   "metadata": {},
   "outputs": [],
   "source": [
    "#params\n",
    "L = 1.0\n",
    "alpha = 0.1\n",
    "Q = 2.0\n",
    "a = 0\n",
    "b = 0\n",
    "N_modes = 100\n",
    "\n",
    "xs = np.linspace(0, L, 200)\n",
    "ts = np.linspace(0, 0.5, 100)\n",
    "\n",
    "#steady state u_s(x)\n",
    "def u_s(x):\n",
    "    C2 = a\n",
    "    C1 = (b-a + (Q/(2*alpha))*L**2)/L\n",
    "    return -Q/(2*alpha)*x**2 + C1*x + C2\n",
    "\n",
    "#initial conditions, gaussian bump + steady state\n",
    "u0 = u_s(xs) + 0.5*np.exp(-((xs-0.4)**2)/(2*(0.05**2)))\n",
    "\n",
    "#b_n coefficients\n",
    "b_n = np.zeros(N_modes)\n",
    "for n in range(1, N_modes+1):\n",
    "    phi = np.sin(n*np.pi*xs/L)\n",
    "    integrand = (u0 - u_s(xs)) * phi\n",
    "    b_n[n-1] = 2.0/L * np.trapezoid(integrand, xs)\n",
    "\n",
    "def u_xt(x,t):\n",
    "    s = u_s(x)\n",
    "    for n in range(1, N_modes+1):\n",
    "        s+= b_n[n-1]*np.sin(n*np.pi*x/L)*np.exp(-alpha*(n*np.pi/L)**2 * t)\n",
    "    return s\n",
    "\n",
    "#get U(x, t)\n",
    "U = np.zeros((len(xs), len(ts)))\n",
    "for i, x in enumerate(xs):\n",
    "    U[i, :] = u_xt(x, ts)\n",
    "\n",
    "# np.random.seed(0)\n",
    "noise_level = 0.20\n",
    "U_noisy = U + noise_level*np.random.randn(*U.shape)*np.abs(U)\n",
    "\n",
    "#tensors\n",
    "X, T = np.meshgrid(xs, ts, indexing='ij')\n",
    "x_data_tensor = torch.tensor(X.flatten(), dtype=torch.float32).view(-1,1)\n",
    "t_data_tensor = torch.tensor(T.flatten(), dtype=torch.float32).view(-1,1)\n",
    "U_data_tensor = torch.tensor(U_noisy.flatten(), dtype=torch.float32).view(-1,1)\n",
    "\n",
    "#IC\n",
    "x_ic_tensor = torch.tensor(xs, dtype=torch.float32).view(-1,1)\n",
    "t_ic_tensor = torch.zeros_like(x_ic_tensor)\n",
    "u_ic_tensor = torch.tensor(u0, dtype=torch.float32).view(-1,1)\n",
    "\n",
    "#BC\n",
    "t_bc_tensor = torch.tensor(ts, dtype=torch.float32).view(-1,1)\n"
   ]
  },
  {
   "cell_type": "code",
   "execution_count": 64,
   "id": "9bf51943",
   "metadata": {},
   "outputs": [],
   "source": [
    "\n",
    "class PINN(nn.Module):\n",
    "    def __init__(self, n_hidden=20, n_layers=4):\n",
    "        super().__init__()\n",
    "        layers = [nn.Linear(2, n_hidden), nn.Tanh()]\n",
    "        for _ in range(n_layers - 1):\n",
    "            layers += [nn.Linear(n_hidden, n_hidden), nn.Tanh()]\n",
    "        layers += [nn.Linear(n_hidden, 1)]\n",
    "        self.net = nn.Sequential(*layers)\n",
    "\n",
    "        self.alpha = nn.Parameter(torch.tensor([alpha], dtype=torch.float32))\n",
    "\n",
    "    def forward(self, x, t):\n",
    "        XT = torch.cat((x, t), dim=1)\n",
    "        return self.net(XT)\n",
    "    \n",
    "model = PINN()\n"
   ]
  },
  {
   "cell_type": "code",
   "execution_count": 65,
   "id": "4ebed8b1",
   "metadata": {},
   "outputs": [],
   "source": [
    "#Helper, dy/dx\n",
    "def derivative(y, x):\n",
    "    return torch.autograd.grad(\n",
    "        y, x,\n",
    "        grad_outputs=torch.ones_like(y),\n",
    "        create_graph=True\n",
    "    )[0]"
   ]
  },
  {
   "cell_type": "code",
   "execution_count": null,
   "id": "14d84717",
   "metadata": {},
   "outputs": [],
   "source": []
  },
  {
   "cell_type": "code",
   "execution_count": 66,
   "id": "09995e16",
   "metadata": {},
   "outputs": [],
   "source": [
    "#Loss funcs\n",
    "\n",
    "def pde_loss(model, x, t):\n",
    "\n",
    "    t.requires_grad_(True)\n",
    "    x.requires_grad_(True)\n",
    "\n",
    "    u_pred = model(x, t)\n",
    "    du_dt_pred = derivative(u_pred, t)\n",
    "    du_dx_pred = derivative(u_pred, x)\n",
    "    du_dxx_pred = derivative(du_dx_pred, x)\n",
    "\n",
    "    return torch.mean((du_dt_pred - model.alpha * du_dxx_pred)**2)\n",
    "\n",
    "def data_loss(model, x, t, u_data):\n",
    "    u_pred = model(x, t)\n",
    "    return torch.mean((u_pred - u_data)**2)\n",
    "\n",
    "def ic_loss(model, x_ic, t_ic, u_ic):\n",
    "    u_pred = model(x_ic, t_ic)\n",
    "    return torch.mean((u_pred - u_ic) ** 2)\n",
    "\n",
    "def bc_loss(model, t_bc, L):\n",
    "    # Right boundary (x=0)\n",
    "    x_left = torch.zeros_like(t_bc)\n",
    "    u_pred_left = model(x_left, t_bc)\n",
    "    loss_left = torch.mean((u_pred_left - a) ** 2)\n",
    "\n",
    "    # Right boundary (x=L)\n",
    "    x_right = torch.full_like(t_bc, L)\n",
    "    u_pred_right = model(x_right, t_bc)\n",
    "    loss_right = torch.mean((u_pred_right - b) ** 2)\n",
    "\n",
    "    return loss_left + loss_right\n",
    "\n",
    "    \n",
    "\n"
   ]
  },
  {
   "cell_type": "code",
   "execution_count": 67,
   "id": "3ac098c1",
   "metadata": {},
   "outputs": [],
   "source": [
    "\n",
    "optimizer = torch.optim.Adam(model.parameters(), lr=0.01)\n",
    "\n",
    "lambda_data = 1.0\n",
    "lambda_pde  = 0\n",
    "lambda_ic   = 1.0\n",
    "lambda_bc   = 1.0\n",
    "\n",
    "num_epochs = 3000\n",
    "print_every = num_epochs//10\n"
   ]
  },
  {
   "cell_type": "code",
   "execution_count": 68,
   "id": "47893a80",
   "metadata": {},
   "outputs": [
    {
     "name": "stdout",
     "output_type": "stream",
     "text": [
      "Epoch 300/3000, Total Loss = 0.157563, Data Loss = 0.148050, PDE Loss = 3.943702, IC Loss = 0.008179\n",
      "Epoch 600/3000, Total Loss = 0.150763, Data Loss = 0.146104, PDE Loss = 5.790472, IC Loss = 0.004431\n",
      "Epoch 900/3000, Total Loss = 0.148734, Data Loss = 0.145392, PDE Loss = 5.966928, IC Loss = 0.003311\n",
      "Epoch 1200/3000, Total Loss = 0.147917, Data Loss = 0.145399, PDE Loss = 6.478857, IC Loss = 0.002326\n",
      "Epoch 1500/3000, Total Loss = 0.146902, Data Loss = 0.145248, PDE Loss = 6.392480, IC Loss = 0.001588\n",
      "Epoch 1800/3000, Total Loss = 0.149477, Data Loss = 0.145962, PDE Loss = 6.488646, IC Loss = 0.001641\n",
      "Epoch 2100/3000, Total Loss = 0.145946, Data Loss = 0.145069, PDE Loss = 6.854955, IC Loss = 0.000807\n",
      "Epoch 2400/3000, Total Loss = 0.145045, Data Loss = 0.144574, PDE Loss = 6.828352, IC Loss = 0.000427\n",
      "Epoch 2700/3000, Total Loss = 0.144560, Data Loss = 0.144287, PDE Loss = 6.882658, IC Loss = 0.000222\n",
      "Epoch 3000/3000, Total Loss = 0.144166, Data Loss = 0.144033, PDE Loss = 6.944783, IC Loss = 0.000118\n"
     ]
    }
   ],
   "source": [
    "#train\n",
    "model.train()\n",
    "for epoch in range(num_epochs):\n",
    "\n",
    "    optimizer.zero_grad()\n",
    "\n",
    "    # Compute losses\n",
    "    l_data = data_loss(model, x_data_tensor, t_data_tensor, U_data_tensor)\n",
    "    l_pde  = pde_loss(model, x_data_tensor, t_data_tensor)\n",
    "    l_ic   = ic_loss(model, x_ic_tensor, t_ic_tensor, u_ic_tensor)\n",
    "    l_bc   = bc_loss(model, t_bc_tensor, L)\n",
    "\n",
    "\n",
    "    loss = lambda_data * l_data + lambda_pde* l_pde + lambda_ic * l_ic + lambda_bc * l_bc\n",
    "\n",
    "    # Backprop\n",
    "    loss.backward()\n",
    "    optimizer.step()\n",
    "\n",
    "    # Print progress\n",
    "    if (epoch+1) % print_every == 0:\n",
    "        print(f\"Epoch {epoch+1}/{num_epochs}, \"\n",
    "              f\"Total Loss = {loss.item():.6f}, \"\n",
    "              f\"Data Loss = {l_data.item():.6f}, \"\n",
    "              f\"PDE Loss = {l_pde.item():.6f}, \"\n",
    "              f\"IC Loss = {l_ic.item():.6f}\")"
   ]
  },
  {
   "cell_type": "code",
   "execution_count": 70,
   "id": "a3656602",
   "metadata": {},
   "outputs": [
    {
     "data": {
      "image/png": "[encoded data removed]",
      "text/plain": [
       "<Figure size 864x432 with 1 Axes>"
      ]
     },
     "metadata": {
      "needs_background": "light"
     },
     "output_type": "display_data"
    }
   ],
   "source": [
    "\n",
    "model.eval()\n",
    "\n",
    "# Create a grid for plotting\n",
    "x_plot = np.linspace(0, L, 100).reshape(-1,1).astype(np.float32)\n",
    "t_plot = np.linspace(0, 0.5, 100).reshape(-1,1).astype(np.float32)\n",
    "X, T = np.meshgrid(x_plot, t_plot)\n",
    "x_grid = torch.tensor(X.flatten()[:,None], dtype=torch.float32)\n",
    "t_grid = torch.tensor(T.flatten()[:,None], dtype=torch.float32)\n",
    "\n",
    "# Predict with the trained PINN\n",
    "u_pred = model(x_grid, t_grid).detach().numpy()\n",
    "U_pred = u_pred.reshape(X.shape)\n",
    "\n",
    "# True solution for comparison (if available)\n",
    "U_true = u_xt(X, T)  # should return shape (100,100)\n",
    "\n",
    "# Plot predictions vs true solution at several time slices\n",
    "plt.figure(figsize=(12,6))\n",
    "\n",
    "for i, ti in enumerate([0, 25, 50, 75, 99]):  # example time slices\n",
    "    plt.plot(x_plot, U_pred[ti,:], label=f'PINN t={t_plot[ti,0]:.2f}')\n",
    "    if U_true is not None:\n",
    "        plt.plot(x_plot, U_true[ti,:], 'k--', alpha=0.5)\n",
    "\n",
    "plt.xlabel('x')\n",
    "plt.ylabel('u(x,t)')\n",
    "plt.title(f'PINN Prediction with learned alpha={model.alpha.item():.5f}')\n",
    "plt.legend()\n",
    "plt.grid(True)\n",
    "plt.show()\n"
   ]
  },
  {
   "cell_type": "code",
   "execution_count": null,
   "id": "583c5612",
   "metadata": {},
   "outputs": [],
   "source": []
  },
  {
   "cell_type": "code",
   "execution_count": null,
   "id": "d4c37047",
   "metadata": {},
   "outputs": [],
   "source": []
  },
  {
   "cell_type": "code",
   "execution_count": null,
   "id": "44808f67",
   "metadata": {},
   "outputs": [],
   "source": []
  }
 ],
 "metadata": {
  "kernelspec": {
   "display_name": "Python 3",
   "language": "python",
   "name": "python3"
  },
  "language_info": {
   "codemirror_mode": {
    "name": "ipython",
    "version": 3
   },
   "file_extension": ".py",
   "mimetype": "text/x-python",
   "name": "python",
   "nbconvert_exporter": "python",
   "pygments_lexer": "ipython3",
   "version": "3.10.12"
  }
 },
 "nbformat": 4,
 "nbformat_minor": 5
}
